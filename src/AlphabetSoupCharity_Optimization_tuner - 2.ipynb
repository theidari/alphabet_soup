{
  "cells": [
    {
      "cell_type": "markdown",
      "metadata": {
        "id": "view-in-github",
        "colab_type": "text"
      },
      "source": [
        "<a href=\"https://colab.research.google.com/github/theidari/alphabet_soup/blob/main/src/AlphabetSoupCharity_Optimization_tuner%20-%202.ipynb\" target=\"_parent\"><img src=\"https://colab.research.google.com/assets/colab-badge.svg\" alt=\"Open In Colab\"/></a>"
      ]
    },
    {
      "cell_type": "markdown",
      "metadata": {
        "id": "ryMAU8Ulrfaf"
      },
      "source": [
        "#**Alphabet Soup Charity Optimization**"
      ]
    },
    {
      "cell_type": "markdown",
      "source": [
        "#**Step 3: Optimize the Model**\n",
        "---"
      ],
      "metadata": {
        "id": "GSzu3Lyr1J5m"
      }
    },
    {
      "cell_type": "code",
      "execution_count": 1,
      "metadata": {
        "id": "96HxmfWTrfag",
        "outputId": "277bb64f-79ca-4859-d56b-bd4c9dfe3e95",
        "colab": {
          "base_uri": "https://localhost:8080/"
        }
      },
      "outputs": [
        {
          "output_type": "stream",
          "name": "stdout",
          "text": [
            "Cloning into 'alphabet_soup'...\n",
            "remote: Enumerating objects: 230, done.\u001b[K\n",
            "remote: Counting objects: 100% (3/3), done.\u001b[K\n",
            "remote: Compressing objects: 100% (3/3), done.\u001b[K\n",
            "remote: Total 230 (delta 0), reused 2 (delta 0), pack-reused 227\u001b[K\n",
            "Receiving objects: 100% (230/230), 256.66 KiB | 7.78 MiB/s, done.\n",
            "Resolving deltas: 100% (153/153), done.\n",
            "☑ constants is imporetd\n",
            "☑ helpers is imporetd\n"
          ]
        }
      ],
      "source": [
        "# Delete the existing directory\n",
        "!rm -rf alphabet_soup\n",
        "\n",
        "# Clone the repository to a new directory\n",
        "!git clone https://github.com/theidari/alphabet_soup.git\n",
        "\n",
        "# Dependencies and setup\n",
        "from alphabet_soup.src.package.constants import * # constants\n",
        "from alphabet_soup.src.package.helpers import * # liberaries and functions"
      ]
    },
    {
      "cell_type": "code",
      "source": [
        "# Loading the data into a Pandas DataFrame\n",
        "application_df = pd.read_csv(DATA_URL)"
      ],
      "metadata": {
        "id": "y4Ya1duorvz2"
      },
      "execution_count": 2,
      "outputs": []
    },
    {
      "cell_type": "code",
      "source": [
        "# Drop the 'EIN' column.\n",
        "application_df = application_df.drop(columns=[\"EIN\"], axis=1)"
      ],
      "metadata": {
        "id": "hTJCJeLVRjHU"
      },
      "execution_count": 3,
      "outputs": []
    },
    {
      "cell_type": "code",
      "execution_count": 4,
      "metadata": {
        "id": "IhfocLrmrfah",
        "outputId": "8db43b56-ee52-4c39-e21b-f39e721453be",
        "colab": {
          "base_uri": "https://localhost:8080/"
        }
      },
      "outputs": [
        {
          "output_type": "stream",
          "name": "stdout",
          "text": [
            "\n",
            "--------------------------------------------------------------------------------\n",
            " Value Count before binning:\n",
            "--------------------------------------------------------------------------------\n",
            "C1000    17326\n",
            "C2000     6074\n",
            "C1200     4837\n",
            "C3000     1918\n",
            "C2100     1883\n",
            "         ...  \n",
            "C4120        1\n",
            "C8210        1\n",
            "C2561        1\n",
            "C4500        1\n",
            "C2150        1\n",
            "Name: CLASSIFICATION, Length: 71, dtype: int64\n",
            "--------------------------------------------------------------------------------\n",
            "Value Count after binning:\n",
            "--------------------------------------------------------------------------------\n",
            "C1000    17326\n",
            "C2000     6074\n",
            "C1200     4837\n",
            "C3000     1918\n",
            "C2100     1883\n",
            "C7000      777\n",
            "Other      669\n",
            "C1700      287\n",
            "C4000      194\n",
            "C5000      116\n",
            "C1270      114\n",
            "C2700      104\n",
            "Name: CLASSIFICATION, dtype: int64\n"
          ]
        }
      ],
      "source": [
        "binning (application_df,'CLASSIFICATION',100)"
      ]
    },
    {
      "cell_type": "code",
      "execution_count": 5,
      "metadata": {
        "id": "-JyuuUchrfah",
        "outputId": "5ed34d82-c0df-448b-bc33-22126b41d568",
        "colab": {
          "base_uri": "https://localhost:8080/"
        }
      },
      "outputs": [
        {
          "output_type": "stream",
          "name": "stdout",
          "text": [
            "\n",
            "--------------------------------------------------------------------------------\n",
            " Value Count before binning:\n",
            "--------------------------------------------------------------------------------\n",
            "T3     27037\n",
            "T4      1542\n",
            "T6      1216\n",
            "T5      1173\n",
            "T19     1065\n",
            "T8       737\n",
            "T7       725\n",
            "T10      528\n",
            "T9       156\n",
            "T13       66\n",
            "T12       27\n",
            "T2        16\n",
            "T25        3\n",
            "T14        3\n",
            "T29        2\n",
            "T15        2\n",
            "T17        1\n",
            "Name: APPLICATION_TYPE, dtype: int64\n",
            "--------------------------------------------------------------------------------\n",
            "Value Count after binning:\n",
            "--------------------------------------------------------------------------------\n",
            "T3       27037\n",
            "T4        1542\n",
            "T6        1216\n",
            "T5        1173\n",
            "T19       1065\n",
            "T8         737\n",
            "T7         725\n",
            "T10        528\n",
            "T9         156\n",
            "Other      120\n",
            "Name: APPLICATION_TYPE, dtype: int64\n"
          ]
        }
      ],
      "source": [
        "binning (application_df,'APPLICATION_TYPE',100)"
      ]
    },
    {
      "cell_type": "code",
      "source": [
        "binning (application_df,'NAME',100)"
      ],
      "metadata": {
        "id": "UP2qHFstIczU",
        "outputId": "ce4826d5-dfbd-4bfa-b781-922d43b928c3",
        "colab": {
          "base_uri": "https://localhost:8080/"
        }
      },
      "execution_count": 6,
      "outputs": [
        {
          "output_type": "stream",
          "name": "stdout",
          "text": [
            "\n",
            "--------------------------------------------------------------------------------\n",
            " Value Count before binning:\n",
            "--------------------------------------------------------------------------------\n",
            "PARENT BOOSTER USA INC                                                  1260\n",
            "TOPS CLUB INC                                                            765\n",
            "UNITED STATES BOWLING CONGRESS INC                                       700\n",
            "WASHINGTON STATE UNIVERSITY                                              492\n",
            "AMATEUR ATHLETIC UNION OF THE UNITED STATES INC                          408\n",
            "                                                                        ... \n",
            "ST LOUIS SLAM WOMENS FOOTBALL                                              1\n",
            "AIESEC ALUMNI IBEROAMERICA CORP                                            1\n",
            "WEALLBLEEDRED ORG INC                                                      1\n",
            "AMERICAN SOCIETY FOR STANDARDS IN MEDIUMSHIP & PSYCHICAL INVESTIGATI       1\n",
            "WATERHOUSE CHARITABLE TR                                                   1\n",
            "Name: NAME, Length: 19568, dtype: int64\n",
            "--------------------------------------------------------------------------------\n",
            "Value Count after binning:\n",
            "--------------------------------------------------------------------------------\n",
            "Other                                                                 25987\n",
            "PARENT BOOSTER USA INC                                                 1260\n",
            "TOPS CLUB INC                                                           765\n",
            "UNITED STATES BOWLING CONGRESS INC                                      700\n",
            "WASHINGTON STATE UNIVERSITY                                             492\n",
            "AMATEUR ATHLETIC UNION OF THE UNITED STATES INC                         408\n",
            "PTA TEXAS CONGRESS                                                      368\n",
            "SOROPTIMIST INTERNATIONAL OF THE AMERICAS INC                           331\n",
            "ALPHA PHI SIGMA                                                         313\n",
            "TOASTMASTERS INTERNATIONAL                                              293\n",
            "MOST WORSHIPFUL STRINGER FREE AND ACCEPTED MASONS                       287\n",
            "LITTLE LEAGUE BASEBALL INC                                              277\n",
            "INTERNATIONAL ASSOCIATION OF LIONS CLUBS                                266\n",
            "MOMS CLUB                                                               210\n",
            "INTERNATIONAL ASSOCIATION OF SHEET METAL AIR RAIL & TRANSPORTATION      206\n",
            "AMERICAN ASSOCIATION OF UNIVERSITY WOMEN                                197\n",
            "FARMERS EDUCATIONAL AND COOPERATIVE UNION OF AMERICA                    166\n",
            "KNIGHTS OF COLUMBUS                                                     158\n",
            "HABITAT FOR HUMANITY INTERNATIONAL INC                                  154\n",
            "TENNESSEE ORDER OF THE EASTERN STAR                                     151\n",
            "VETERANS OF FOREIGN WARS OF THE UNITED STATES AUXILIARY                 144\n",
            "PTA UTAH CONGRESS                                                       140\n",
            "THE UNITED STATES PONY CLUBS INC                                        136\n",
            "CIVITAN INTERNATIONAL                                                   131\n",
            "SIGMA BETA DELTA INC                                                    127\n",
            "HONOR SOCIETY OF PHI KAPPA PHI                                          107\n",
            "MONTANA 4-H FOUNDATION INC                                              107\n",
            "WASHINGTON STATE GRANGE                                                 106\n",
            "UNIVERSITY OF WYOMING                                                   105\n",
            "DEMOLAY INTERNATIONAL                                                   104\n",
            "SERTOMA INC                                                             103\n",
            "Name: NAME, dtype: int64\n"
          ]
        }
      ]
    },
    {
      "cell_type": "code",
      "source": [
        "# Convert categorical data to numeric with `pd.get_dummies`\n",
        "application_numeric = pd.get_dummies(application_df)"
      ],
      "metadata": {
        "id": "u5cX5Qqs65hm"
      },
      "execution_count": 7,
      "outputs": []
    },
    {
      "cell_type": "code",
      "execution_count": 8,
      "metadata": {
        "id": "6tOXFGUCrfai"
      },
      "outputs": [],
      "source": [
        "# Split our preprocessed data into our features and target arrays\n",
        "X = application_numeric.drop(['IS_SUCCESSFUL'], axis=1)\n",
        "y = application_numeric['IS_SUCCESSFUL']\n",
        "\n",
        "# Split the preprocessed data into a training and testing dataset\n",
        "X_train, X_test, y_train, y_test = train_test_split(X, y, random_state=0)\n",
        "\n",
        "# Create a StandardScaler instances\n",
        "scaler = StandardScaler()\n",
        "\n",
        "# Fit the StandardScaler\n",
        "X_scaler = scaler.fit(X_train)\n",
        "\n",
        "# Scale the data\n",
        "X_train_scaled = X_scaler.transform(X_train)\n",
        "X_test_scaled = X_scaler.transform(X_test)\n",
        "\n",
        "input_features=len(X_train_scaled[1])"
      ]
    },
    {
      "cell_type": "code",
      "source": [
        "def create_model(hp):\n",
        "    nn_model = tf.keras.models.Sequential()\n",
        "\n",
        "    # Allow kerastuner to decide which activation function to use in hidden layers\n",
        "    activation = hp.Choice('activation',['relu','tanh',\"sigmoid\"])\n",
        "    \n",
        "    # Allow kerastuner to decide number of neurons in first layer\n",
        "    nn_model.add(tf.keras.layers.Dense(units=hp.Int('first_units',\n",
        "        min_value=1,\n",
        "        max_value=300,\n",
        "        step=5), activation=activation, input_dim=input_features))\n",
        "\n",
        "    # Allow kerastuner to decide number of hidden layers and neurons in hidden layers\n",
        "    for i in range(hp.Int('num_layers', 1, 8)):\n",
        "        nn_model.add(tf.keras.layers.Dense(units=hp.Int('units_' + str(i),\n",
        "            min_value=1,\n",
        "            max_value=160,\n",
        "            step=5),\n",
        "            activation=activation))\n",
        "    \n",
        "    nn_model.add(tf.keras.layers.Dense(units=1, activation=\"sigmoid\"))\n",
        "\n",
        "    # Compile the model\n",
        "    nn_model.compile(loss=\"binary_crossentropy\", optimizer='adam', metrics=[\"accuracy\"])\n",
        "    \n",
        "    return nn_model"
      ],
      "metadata": {
        "id": "HE_wh_uEopVa"
      },
      "execution_count": 9,
      "outputs": []
    },
    {
      "cell_type": "code",
      "source": [
        "!pip install -q -U keras-tuner\n",
        "import keras_tuner as kt\n",
        "\n",
        "tuner = kt.Hyperband(\n",
        "    create_model,\n",
        "    objective=\"val_accuracy\",\n",
        "    max_epochs=35,\n",
        "    hyperband_iterations=2)"
      ],
      "metadata": {
        "id": "qwIWpB9ToxNW",
        "outputId": "1e6b4e8c-0977-4d35-ebc5-11b572d695dd",
        "colab": {
          "base_uri": "https://localhost:8080/"
        }
      },
      "execution_count": 10,
      "outputs": [
        {
          "output_type": "stream",
          "name": "stdout",
          "text": [
            "\u001b[?25l     \u001b[90m━━━━━━━━━━━━━━━━━━━━━━━━━━━━━━━━━━━━━━━━\u001b[0m \u001b[32m0.0/172.2 KB\u001b[0m \u001b[31m?\u001b[0m eta \u001b[36m-:--:--\u001b[0m\r\u001b[2K     \u001b[90m━━━━━━━━━━━━━━━━━━━━━━━━━━━━━━━━━━━━━━━\u001b[0m \u001b[32m172.2/172.2 KB\u001b[0m \u001b[31m5.5 MB/s\u001b[0m eta \u001b[36m0:00:00\u001b[0m\n",
            "\u001b[?25h"
          ]
        }
      ]
    },
    {
      "cell_type": "code",
      "source": [
        "tuner.search(X_train_scaled,y_train,epochs=35,validation_data=(X_test_scaled,y_test)) "
      ],
      "metadata": {
        "id": "5uUJOqPPrEhW",
        "outputId": "4c16ea4d-fb30-425b-ea7b-0990ced14227",
        "colab": {
          "base_uri": "https://localhost:8080/"
        }
      },
      "execution_count": 11,
      "outputs": [
        {
          "output_type": "stream",
          "name": "stdout",
          "text": [
            "Trial 180 Complete [00h 02m 24s]\n",
            "val_accuracy: 0.7545189261436462\n",
            "\n",
            "Best val_accuracy So Far: 0.7546355724334717\n",
            "Total elapsed time: 01h 07m 18s\n"
          ]
        }
      ]
    },
    {
      "cell_type": "code",
      "source": [
        "top_hyper = tuner.get_best_hyperparameters(3)\n",
        "for param in top_hyper:\n",
        "    print(param.values)"
      ],
      "metadata": {
        "id": "mfSF0R1VF3F0",
        "outputId": "be4ae594-775a-4553-b96f-73a2dc57e5c8",
        "colab": {
          "base_uri": "https://localhost:8080/"
        }
      },
      "execution_count": 12,
      "outputs": [
        {
          "output_type": "stream",
          "name": "stdout",
          "text": [
            "{'activation': 'relu', 'first_units': 106, 'num_layers': 6, 'units_0': 141, 'units_1': 36, 'units_2': 151, 'units_3': 86, 'units_4': 101, 'units_5': 76, 'units_6': 86, 'units_7': 96, 'tuner/epochs': 35, 'tuner/initial_epoch': 12, 'tuner/bracket': 1, 'tuner/round': 1, 'tuner/trial_id': '0076'}\n",
            "{'activation': 'relu', 'first_units': 86, 'num_layers': 4, 'units_0': 31, 'units_1': 121, 'units_2': 66, 'units_3': 151, 'units_4': 51, 'units_5': 126, 'units_6': 76, 'units_7': 91, 'tuner/epochs': 12, 'tuner/initial_epoch': 4, 'tuner/bracket': 2, 'tuner/round': 1, 'tuner/trial_id': '0053'}\n",
            "{'activation': 'relu', 'first_units': 121, 'num_layers': 1, 'units_0': 36, 'units_1': 141, 'units_2': 61, 'units_3': 116, 'units_4': 66, 'units_5': 11, 'units_6': 151, 'units_7': 141, 'tuner/epochs': 35, 'tuner/initial_epoch': 12, 'tuner/bracket': 2, 'tuner/round': 2, 'tuner/trial_id': '0071'}\n"
          ]
        }
      ]
    },
    {
      "cell_type": "code",
      "source": [
        "top_model = tuner.get_best_models(3)\n",
        "for model in top_model:\n",
        "    model_loss, model_accuracy = model.evaluate(X_test_scaled,y_test,verbose=2)\n",
        "    print(f\"Loss: {model_loss}, Accuracy: {model_accuracy}\")"
      ],
      "metadata": {
        "id": "uzNIQARHGIwW",
        "outputId": "593566f1-d950-430e-9ad6-f5693a26c682",
        "colab": {
          "base_uri": "https://localhost:8080/"
        }
      },
      "execution_count": 13,
      "outputs": [
        {
          "output_type": "stream",
          "name": "stdout",
          "text": [
            "268/268 - 1s - loss: 0.5040 - accuracy: 0.7546 - 529ms/epoch - 2ms/step\n",
            "Loss: 0.5040207505226135, Accuracy: 0.7546355724334717\n",
            "268/268 - 0s - loss: 0.5021 - accuracy: 0.7545 - 481ms/epoch - 2ms/step\n",
            "Loss: 0.5020750164985657, Accuracy: 0.7545189261436462\n",
            "268/268 - 0s - loss: 0.5013 - accuracy: 0.7545 - 447ms/epoch - 2ms/step\n",
            "Loss: 0.501349925994873, Accuracy: 0.7545189261436462\n"
          ]
        }
      ]
    },
    {
      "cell_type": "code",
      "source": [
        "models = tuner.get_best_models(num_models=3)\n",
        "best_model = models[1]\n",
        "\n",
        "best_model.build()\n",
        "best_model.summary()"
      ],
      "metadata": {
        "id": "1MUSmBBjGopH",
        "outputId": "d81473af-7b5f-48b3-bd0d-fd86e1d3c996",
        "colab": {
          "base_uri": "https://localhost:8080/"
        }
      },
      "execution_count": 14,
      "outputs": [
        {
          "output_type": "stream",
          "name": "stdout",
          "text": [
            "Model: \"sequential\"\n",
            "_________________________________________________________________\n",
            " Layer (type)                Output Shape              Param #   \n",
            "=================================================================\n",
            " dense (Dense)               (None, 86)                7052      \n",
            "                                                                 \n",
            " dense_1 (Dense)             (None, 31)                2697      \n",
            "                                                                 \n",
            " dense_2 (Dense)             (None, 121)               3872      \n",
            "                                                                 \n",
            " dense_3 (Dense)             (None, 66)                8052      \n",
            "                                                                 \n",
            " dense_4 (Dense)             (None, 151)               10117     \n",
            "                                                                 \n",
            " dense_5 (Dense)             (None, 1)                 152       \n",
            "                                                                 \n",
            "=================================================================\n",
            "Total params: 31,942\n",
            "Trainable params: 31,942\n",
            "Non-trainable params: 0\n",
            "_________________________________________________________________\n"
          ]
        }
      ]
    }
  ],
  "metadata": {
    "kernelspec": {
      "display_name": "Python 3",
      "language": "python",
      "name": "python3"
    },
    "language_info": {
      "codemirror_mode": {
        "name": "ipython",
        "version": 3
      },
      "file_extension": ".py",
      "mimetype": "text/x-python",
      "name": "python",
      "nbconvert_exporter": "python",
      "pygments_lexer": "ipython3",
      "version": "3.-1.-1"
    },
    "vscode": {
      "interpreter": {
        "hash": "31f2aee4e71d21fbe5cf8b01ff0e069b9275f58929596ceb00d14d90e3e16cd6"
      }
    },
    "colab": {
      "provenance": [],
      "include_colab_link": true
    }
  },
  "nbformat": 4,
  "nbformat_minor": 0
}