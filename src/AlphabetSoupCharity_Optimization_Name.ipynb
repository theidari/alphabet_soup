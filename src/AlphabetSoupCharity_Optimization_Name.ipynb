{
  "cells": [
    {
      "cell_type": "markdown",
      "metadata": {
        "id": "view-in-github",
        "colab_type": "text"
      },
      "source": [
        "<a href=\"https://colab.research.google.com/github/theidari/alphabet_soup/blob/main/src/AlphabetSoupCharity_Optimization_Name.ipynb\" target=\"_parent\"><img src=\"https://colab.research.google.com/assets/colab-badge.svg\" alt=\"Open In Colab\"/></a>"
      ]
    },
    {
      "cell_type": "markdown",
      "metadata": {
        "id": "ryMAU8Ulrfaf"
      },
      "source": [
        "<font color=\"#880808\"><h1><b>Alphabet Soup Charity Optimization</b></h1></font>\n",
        "<p align=\"justify\"><font color=\"#0A0888\">\n",
        "After analyzing and exploring various parameters, such as dropping unnecessary columns, creating additional bins for rare occurrences in columns, adjusting the number of values in each bin, increasing the number of neurons in a hidden layer, and adding more hidden layers using a wider and deeper technique, as well as finding the optimal number of epochs and experimenting with different activation functions for the hidden layers based on hyperparameter techniques (using Keras Tuner), the model's accuracy only increased slightly to 72.9%. check <a href=\"https://github.com/theidari/alphabet_soup/blob/main/src/AlphabetSoupCharity_Optimization.ipynb\"><font color=\"#FF5733\">parameter selection</font></a> file.\n",
        "</font></p>\n",
        "<p align=\"justify\"><font color=\"#0A0888\">To improve the accuracy in this section, we reintroduced the \"NAME\" column based on a specific condition. The \"NAME\" column serves as an identification column, and its inclusion may introduce bias into the modeling process. However, we established a criterion to mitigate such bias by binning the names to a set of just over 100 replicates.</font></p>"
      ]
    },
    {
      "cell_type": "code",
      "execution_count": 1,
      "metadata": {
        "id": "96HxmfWTrfag",
        "outputId": "dd292ce7-4bee-43cc-a35f-21dab63a61be",
        "colab": {
          "base_uri": "https://localhost:8080/"
        }
      },
      "outputs": [
        {
          "output_type": "stream",
          "name": "stdout",
          "text": [
            "Cloning into 'alphabet_soup'...\n",
            "remote: Enumerating objects: 340, done.\u001b[K\n",
            "remote: Counting objects: 100% (113/113), done.\u001b[K\n",
            "remote: Compressing objects: 100% (111/111), done.\u001b[K\n",
            "remote: Total 340 (delta 74), reused 8 (delta 1), pack-reused 227\u001b[K\n",
            "Receiving objects: 100% (340/340), 551.25 KiB | 9.84 MiB/s, done.\n",
            "Resolving deltas: 100% (227/227), done.\n",
            "☑ constants is imporetd\n",
            "☑ helpers is imporetd\n"
          ]
        }
      ],
      "source": [
        "# Delete the existing directory\n",
        "!rm -rf alphabet_soup\n",
        "\n",
        "# Clone the repository to a new directory\n",
        "!git clone https://github.com/theidari/alphabet_soup.git\n",
        "\n",
        "# Dependencies and setup\n",
        "from alphabet_soup.src.package.constants import * # constants\n",
        "from alphabet_soup.src.package.helpers import * # liberaries and functions"
      ]
    },
    {
      "cell_type": "code",
      "source": [
        "# Loading the data into a Pandas DataFrame\n",
        "application_df = pd.read_csv(DATA_URL)"
      ],
      "metadata": {
        "id": "y4Ya1duorvz2"
      },
      "execution_count": 2,
      "outputs": []
    },
    {
      "cell_type": "code",
      "source": [
        "# Drop the 'EIN', 'SPECIAL_CONSIDERATIONS', 'ASK_AMT', 'STATUS' columns and keep \"NAME\".\n",
        "application_df = application_df.drop([\"EIN\", \"SPECIAL_CONSIDERATIONS\", \"ASK_AMT\", \"STATUS\"], axis=1)"
      ],
      "metadata": {
        "id": "hTJCJeLVRjHU"
      },
      "execution_count": 3,
      "outputs": []
    },
    {
      "cell_type": "code",
      "execution_count": 4,
      "metadata": {
        "id": "-JyuuUchrfah",
        "outputId": "2e38d0e4-bada-44bb-fefb-a207bd25f940",
        "colab": {
          "base_uri": "https://localhost:8080/"
        }
      },
      "outputs": [
        {
          "output_type": "stream",
          "name": "stdout",
          "text": [
            "\n",
            "--------------------------------------------------------------------------------\n",
            " Value Count before binning:\n",
            "--------------------------------------------------------------------------------\n",
            "T3     27037\n",
            "T4      1542\n",
            "T6      1216\n",
            "T5      1173\n",
            "T19     1065\n",
            "T8       737\n",
            "T7       725\n",
            "T10      528\n",
            "T9       156\n",
            "T13       66\n",
            "T12       27\n",
            "T2        16\n",
            "T25        3\n",
            "T14        3\n",
            "T29        2\n",
            "T15        2\n",
            "T17        1\n",
            "Name: APPLICATION_TYPE, dtype: int64\n",
            "--------------------------------------------------------------------------------\n",
            "Value Count after binning:\n",
            "--------------------------------------------------------------------------------\n",
            "T3       27037\n",
            "T4        1542\n",
            "T6        1216\n",
            "T5        1173\n",
            "T19       1065\n",
            "T8         737\n",
            "T7         725\n",
            "T10        528\n",
            "T9         156\n",
            "Other      120\n",
            "Name: APPLICATION_TYPE, dtype: int64\n"
          ]
        }
      ],
      "source": [
        "# cutoff APPLICATION_TYPE value and create a list of application types to be replaced\n",
        "binning (application_df,\"APPLICATION_TYPE\",100)"
      ]
    },
    {
      "cell_type": "code",
      "execution_count": 5,
      "metadata": {
        "id": "IhfocLrmrfah",
        "outputId": "569e3f31-700e-4450-da75-426d64354078",
        "colab": {
          "base_uri": "https://localhost:8080/"
        }
      },
      "outputs": [
        {
          "output_type": "stream",
          "name": "stdout",
          "text": [
            "\n",
            "--------------------------------------------------------------------------------\n",
            " Value Count before binning:\n",
            "--------------------------------------------------------------------------------\n",
            "C1000    17326\n",
            "C2000     6074\n",
            "C1200     4837\n",
            "C3000     1918\n",
            "C2100     1883\n",
            "         ...  \n",
            "C4120        1\n",
            "C8210        1\n",
            "C2561        1\n",
            "C4500        1\n",
            "C2150        1\n",
            "Name: CLASSIFICATION, Length: 71, dtype: int64\n",
            "--------------------------------------------------------------------------------\n",
            "Value Count after binning:\n",
            "--------------------------------------------------------------------------------\n",
            "C1000    17326\n",
            "C2000     6074\n",
            "C1200     4837\n",
            "C3000     1918\n",
            "C2100     1883\n",
            "C7000      777\n",
            "Other      669\n",
            "C1700      287\n",
            "C4000      194\n",
            "C5000      116\n",
            "C1270      114\n",
            "C2700      104\n",
            "Name: CLASSIFICATION, dtype: int64\n"
          ]
        }
      ],
      "source": [
        "# cutoff CLASSIFICATION value and create a list of application types to be replaced\n",
        "binning (application_df,\"CLASSIFICATION\",100)"
      ]
    },
    {
      "cell_type": "code",
      "source": [
        "# cutoff NAME value and create a list of application types to be replaced\n",
        "binning (application_df,\"NAME\",100)"
      ],
      "metadata": {
        "id": "UP2qHFstIczU",
        "outputId": "50d8b081-3c49-4225-8d9f-8eb32a8be759",
        "colab": {
          "base_uri": "https://localhost:8080/"
        }
      },
      "execution_count": 6,
      "outputs": [
        {
          "output_type": "stream",
          "name": "stdout",
          "text": [
            "\n",
            "--------------------------------------------------------------------------------\n",
            " Value Count before binning:\n",
            "--------------------------------------------------------------------------------\n",
            "PARENT BOOSTER USA INC                                                  1260\n",
            "TOPS CLUB INC                                                            765\n",
            "UNITED STATES BOWLING CONGRESS INC                                       700\n",
            "WASHINGTON STATE UNIVERSITY                                              492\n",
            "AMATEUR ATHLETIC UNION OF THE UNITED STATES INC                          408\n",
            "                                                                        ... \n",
            "ST LOUIS SLAM WOMENS FOOTBALL                                              1\n",
            "AIESEC ALUMNI IBEROAMERICA CORP                                            1\n",
            "WEALLBLEEDRED ORG INC                                                      1\n",
            "AMERICAN SOCIETY FOR STANDARDS IN MEDIUMSHIP & PSYCHICAL INVESTIGATI       1\n",
            "WATERHOUSE CHARITABLE TR                                                   1\n",
            "Name: NAME, Length: 19568, dtype: int64\n",
            "--------------------------------------------------------------------------------\n",
            "Value Count after binning:\n",
            "--------------------------------------------------------------------------------\n",
            "Other                                                                 25987\n",
            "PARENT BOOSTER USA INC                                                 1260\n",
            "TOPS CLUB INC                                                           765\n",
            "UNITED STATES BOWLING CONGRESS INC                                      700\n",
            "WASHINGTON STATE UNIVERSITY                                             492\n",
            "AMATEUR ATHLETIC UNION OF THE UNITED STATES INC                         408\n",
            "PTA TEXAS CONGRESS                                                      368\n",
            "SOROPTIMIST INTERNATIONAL OF THE AMERICAS INC                           331\n",
            "ALPHA PHI SIGMA                                                         313\n",
            "TOASTMASTERS INTERNATIONAL                                              293\n",
            "MOST WORSHIPFUL STRINGER FREE AND ACCEPTED MASONS                       287\n",
            "LITTLE LEAGUE BASEBALL INC                                              277\n",
            "INTERNATIONAL ASSOCIATION OF LIONS CLUBS                                266\n",
            "MOMS CLUB                                                               210\n",
            "INTERNATIONAL ASSOCIATION OF SHEET METAL AIR RAIL & TRANSPORTATION      206\n",
            "AMERICAN ASSOCIATION OF UNIVERSITY WOMEN                                197\n",
            "FARMERS EDUCATIONAL AND COOPERATIVE UNION OF AMERICA                    166\n",
            "KNIGHTS OF COLUMBUS                                                     158\n",
            "HABITAT FOR HUMANITY INTERNATIONAL INC                                  154\n",
            "TENNESSEE ORDER OF THE EASTERN STAR                                     151\n",
            "VETERANS OF FOREIGN WARS OF THE UNITED STATES AUXILIARY                 144\n",
            "PTA UTAH CONGRESS                                                       140\n",
            "THE UNITED STATES PONY CLUBS INC                                        136\n",
            "CIVITAN INTERNATIONAL                                                   131\n",
            "SIGMA BETA DELTA INC                                                    127\n",
            "HONOR SOCIETY OF PHI KAPPA PHI                                          107\n",
            "MONTANA 4-H FOUNDATION INC                                              107\n",
            "WASHINGTON STATE GRANGE                                                 106\n",
            "UNIVERSITY OF WYOMING                                                   105\n",
            "DEMOLAY INTERNATIONAL                                                   104\n",
            "SERTOMA INC                                                             103\n",
            "Name: NAME, dtype: int64\n"
          ]
        }
      ]
    },
    {
      "cell_type": "code",
      "source": [
        "# Convert categorical data to numeric with `pd.get_dummies`\n",
        "application_numeric = pd.get_dummies(application_df)"
      ],
      "metadata": {
        "id": "u5cX5Qqs65hm"
      },
      "execution_count": 7,
      "outputs": []
    },
    {
      "cell_type": "code",
      "execution_count": 8,
      "metadata": {
        "id": "6tOXFGUCrfai"
      },
      "outputs": [],
      "source": [
        "# Split our preprocessed data into our features and target arrays\n",
        "X = application_numeric.drop([\"IS_SUCCESSFUL\"], axis=1)\n",
        "y = application_numeric[\"IS_SUCCESSFUL\"]\n",
        "\n",
        "# Split the preprocessed data into a training and testing dataset\n",
        "X_train, X_test, y_train, y_test = train_test_split(X, y, random_state=0)\n",
        "\n",
        "# Create a StandardScaler instances\n",
        "scaler = StandardScaler()\n",
        "\n",
        "# Fit the StandardScaler\n",
        "X_scaler = scaler.fit(X_train)\n",
        "\n",
        "# Scale the data\n",
        "X_train_scaled = X_scaler.transform(X_train)\n",
        "X_test_scaled = X_scaler.transform(X_test)\n",
        "\n",
        "# make input_dim for keras tuner function\n",
        "input_features=len(X_train_scaled[1])"
      ]
    },
    {
      "cell_type": "code",
      "source": [
        "# create a method that creates a new Sequential model with hyperparameter options\n",
        "def create_model(hp):\n",
        "    nn_model = tf.keras.models.Sequential()\n",
        "\n",
        "    # allow kerastuner to decide which activation function to use in hidden layers\n",
        "    activation = hp.Choice(\"activation\",[\"relu\",\"tanh\",\"sigmoid\"])\n",
        "    \n",
        "    # allow kerastuner to decide number of neurons in first layer\n",
        "    nn_model.add(tf.keras.layers.Dense(units=hp.Int(\"first_units\",\n",
        "        min_value=1,\n",
        "        max_value=320,\n",
        "        step=5), activation=activation, input_dim=input_features))\n",
        "\n",
        "    # allow kerastuner to decide number of hidden layers and neurons in hidden layers\n",
        "    for i in range(hp.Int(\"num_layers\", 1, 8)):\n",
        "        nn_model.add(tf.keras.layers.Dense(units=hp.Int(\"units_\" + str(i),\n",
        "            min_value=1,\n",
        "            max_value=120,\n",
        "            step=5),\n",
        "            activation=activation))\n",
        "    \n",
        "    nn_model.add(tf.keras.layers.Dense(units=1, activation=\"sigmoid\"))\n",
        "\n",
        "    # compile the model\n",
        "    nn_model.compile(loss=\"binary_crossentropy\", optimizer=\"adam\", metrics=[\"accuracy\"])\n",
        "    \n",
        "    return nn_model"
      ],
      "metadata": {
        "id": "HE_wh_uEopVa"
      },
      "execution_count": 9,
      "outputs": []
    },
    {
      "cell_type": "code",
      "source": [],
      "metadata": {
        "id": "DCBbmx4xdqmi"
      },
      "execution_count": 9,
      "outputs": []
    },
    {
      "cell_type": "code",
      "source": [
        "# import the kerastuner library\n",
        "!pip install -q -U keras-tuner\n",
        "import keras_tuner as kt\n",
        "\n",
        "tuner = kt.Hyperband(\n",
        "    create_model,\n",
        "    objective=\"val_accuracy\",\n",
        "    max_epochs=35,\n",
        "    hyperband_iterations=2)"
      ],
      "metadata": {
        "id": "qwIWpB9ToxNW",
        "outputId": "3aa1cd1d-3352-4474-9655-4baf6e793ca8",
        "colab": {
          "base_uri": "https://localhost:8080/"
        }
      },
      "execution_count": 10,
      "outputs": [
        {
          "output_type": "stream",
          "name": "stdout",
          "text": [
            "\u001b[?25l     \u001b[90m━━━━━━━━━━━━━━━━━━━━━━━━━━━━━━━━━━━━━━━━\u001b[0m \u001b[32m0.0/172.2 kB\u001b[0m \u001b[31m?\u001b[0m eta \u001b[36m-:--:--\u001b[0m\r\u001b[2K     \u001b[91m━━━━━━━━━━━━━━━━━━━━━━━━━━━━━━━━━━━━━\u001b[0m\u001b[90m╺\u001b[0m\u001b[90m━\u001b[0m \u001b[32m163.8/172.2 kB\u001b[0m \u001b[31m5.6 MB/s\u001b[0m eta \u001b[36m0:00:01\u001b[0m\r\u001b[2K     \u001b[90m━━━━━━━━━━━━━━━━━━━━━━━━━━━━━━━━━━━━━━━\u001b[0m \u001b[32m172.2/172.2 kB\u001b[0m \u001b[31m4.2 MB/s\u001b[0m eta \u001b[36m0:00:00\u001b[0m\n",
            "\u001b[?25h"
          ]
        }
      ]
    },
    {
      "cell_type": "code",
      "source": [
        "# run the kerastuner search for best hyperparameters\n",
        "tuner.search(X_train_scaled,y_train,epochs=35,validation_data=(X_test_scaled,y_test)) "
      ],
      "metadata": {
        "id": "5uUJOqPPrEhW",
        "outputId": "1de7adc8-d60e-4e09-bd0e-7a260302e55e",
        "colab": {
          "base_uri": "https://localhost:8080/"
        }
      },
      "execution_count": 11,
      "outputs": [
        {
          "output_type": "stream",
          "name": "stdout",
          "text": [
            "Trial 180 Complete [00h 02m 26s]\n",
            "val_accuracy: 0.7533527612686157\n",
            "\n",
            "Best val_accuracy So Far: 0.7555685043334961\n",
            "Total elapsed time: 01h 31m 35s\n"
          ]
        }
      ]
    },
    {
      "cell_type": "code",
      "source": [
        "# get top 3 model hyperparameters and print the values\n",
        "top_hyper = tuner.get_best_hyperparameters(3)\n",
        "for param in top_hyper:\n",
        "    print(param.values)"
      ],
      "metadata": {
        "id": "mfSF0R1VF3F0",
        "colab": {
          "base_uri": "https://localhost:8080/"
        },
        "outputId": "669d2eb2-9e50-49bb-c684-9e18a06c2141"
      },
      "execution_count": 12,
      "outputs": [
        {
          "output_type": "stream",
          "name": "stdout",
          "text": [
            "{'activation': 'relu', 'first_units': 286, 'num_layers': 2, 'units_0': 71, 'units_1': 21, 'units_2': 11, 'units_3': 81, 'units_4': 71, 'units_5': 86, 'units_6': 26, 'units_7': 86, 'tuner/epochs': 35, 'tuner/initial_epoch': 12, 'tuner/bracket': 2, 'tuner/round': 2, 'tuner/trial_id': '0070'}\n",
            "{'activation': 'relu', 'first_units': 251, 'num_layers': 5, 'units_0': 26, 'units_1': 101, 'units_2': 16, 'units_3': 66, 'units_4': 111, 'units_5': 91, 'units_6': 36, 'units_7': 51, 'tuner/epochs': 12, 'tuner/initial_epoch': 4, 'tuner/bracket': 3, 'tuner/round': 2, 'tuner/trial_id': '0038'}\n",
            "{'activation': 'relu', 'first_units': 181, 'num_layers': 3, 'units_0': 51, 'units_1': 31, 'units_2': 116, 'units_3': 86, 'units_4': 111, 'units_5': 46, 'units_6': 41, 'units_7': 16, 'tuner/epochs': 12, 'tuner/initial_epoch': 4, 'tuner/bracket': 2, 'tuner/round': 1, 'tuner/trial_id': '0058'}\n"
          ]
        }
      ]
    },
    {
      "cell_type": "code",
      "source": [
        "# evaluate the top 3 models against the test dataset\n",
        "top_model = tuner.get_best_models(3)\n",
        "for model in top_model:\n",
        "    model_loss, model_accuracy = model.evaluate(X_test_scaled,y_test,verbose=2)\n",
        "    print(f\"Loss: {model_loss}, Accuracy: {model_accuracy}\")"
      ],
      "metadata": {
        "id": "uzNIQARHGIwW",
        "colab": {
          "base_uri": "https://localhost:8080/"
        },
        "outputId": "25039fa9-6d43-4dc0-ed23-525ce2e91740"
      },
      "execution_count": 13,
      "outputs": [
        {
          "output_type": "stream",
          "name": "stdout",
          "text": [
            "268/268 - 2s - loss: 0.4957 - accuracy: 0.7556 - 2s/epoch - 8ms/step\n",
            "Loss: 0.49565911293029785, Accuracy: 0.7555685043334961\n",
            "268/268 - 2s - loss: 0.4977 - accuracy: 0.7550 - 2s/epoch - 6ms/step\n",
            "Loss: 0.4976896047592163, Accuracy: 0.7549854516983032\n",
            "268/268 - 1s - loss: 0.4963 - accuracy: 0.7549 - 1s/epoch - 5ms/step\n",
            "Loss: 0.49632805585861206, Accuracy: 0.7548688054084778\n"
          ]
        }
      ]
    },
    {
      "cell_type": "code",
      "source": [
        "# first best model \n",
        "best_model_1 = top_model[0]\n",
        "best_model_1.build()\n",
        "best_model_1.summary()"
      ],
      "metadata": {
        "id": "1MUSmBBjGopH",
        "colab": {
          "base_uri": "https://localhost:8080/"
        },
        "outputId": "583d357d-7a8a-4360-8014-f55f3fd23b6f"
      },
      "execution_count": 14,
      "outputs": [
        {
          "output_type": "stream",
          "name": "stdout",
          "text": [
            "Model: \"sequential\"\n",
            "_________________________________________________________________\n",
            " Layer (type)                Output Shape              Param #   \n",
            "=================================================================\n",
            " dense (Dense)               (None, 286)               22308     \n",
            "                                                                 \n",
            " dense_1 (Dense)             (None, 71)                20377     \n",
            "                                                                 \n",
            " dense_2 (Dense)             (None, 21)                1512      \n",
            "                                                                 \n",
            " dense_3 (Dense)             (None, 1)                 22        \n",
            "                                                                 \n",
            "=================================================================\n",
            "Total params: 44,219\n",
            "Trainable params: 44,219\n",
            "Non-trainable params: 0\n",
            "_________________________________________________________________\n"
          ]
        }
      ]
    },
    {
      "cell_type": "code",
      "source": [
        "# second best model \n",
        "best_model_2 = top_model[1]\n",
        "best_model_2.build()\n",
        "best_model_2.summary()"
      ],
      "metadata": {
        "colab": {
          "base_uri": "https://localhost:8080/"
        },
        "id": "2EnD5TBj5kDi",
        "outputId": "f392970b-e719-4300-dc54-0226c892b4b9"
      },
      "execution_count": 15,
      "outputs": [
        {
          "output_type": "stream",
          "name": "stdout",
          "text": [
            "Model: \"sequential\"\n",
            "_________________________________________________________________\n",
            " Layer (type)                Output Shape              Param #   \n",
            "=================================================================\n",
            " dense (Dense)               (None, 251)               19578     \n",
            "                                                                 \n",
            " dense_1 (Dense)             (None, 26)                6552      \n",
            "                                                                 \n",
            " dense_2 (Dense)             (None, 101)               2727      \n",
            "                                                                 \n",
            " dense_3 (Dense)             (None, 16)                1632      \n",
            "                                                                 \n",
            " dense_4 (Dense)             (None, 66)                1122      \n",
            "                                                                 \n",
            " dense_5 (Dense)             (None, 111)               7437      \n",
            "                                                                 \n",
            " dense_6 (Dense)             (None, 1)                 112       \n",
            "                                                                 \n",
            "=================================================================\n",
            "Total params: 39,160\n",
            "Trainable params: 39,160\n",
            "Non-trainable params: 0\n",
            "_________________________________________________________________\n"
          ]
        }
      ]
    },
    {
      "cell_type": "code",
      "source": [
        "# third best model \n",
        "best_model_3 = top_model[2]\n",
        "best_model_3.build()\n",
        "best_model_3.summary()"
      ],
      "metadata": {
        "colab": {
          "base_uri": "https://localhost:8080/"
        },
        "id": "MTMxTacO6Qly",
        "outputId": "55a2a29b-3874-4d33-b6fa-354b2e5e9951"
      },
      "execution_count": 16,
      "outputs": [
        {
          "output_type": "stream",
          "name": "stdout",
          "text": [
            "Model: \"sequential\"\n",
            "_________________________________________________________________\n",
            " Layer (type)                Output Shape              Param #   \n",
            "=================================================================\n",
            " dense (Dense)               (None, 181)               14118     \n",
            "                                                                 \n",
            " dense_1 (Dense)             (None, 51)                9282      \n",
            "                                                                 \n",
            " dense_2 (Dense)             (None, 31)                1612      \n",
            "                                                                 \n",
            " dense_3 (Dense)             (None, 116)               3712      \n",
            "                                                                 \n",
            " dense_4 (Dense)             (None, 1)                 117       \n",
            "                                                                 \n",
            "=================================================================\n",
            "Total params: 28,841\n",
            "Trainable params: 28,841\n",
            "Non-trainable params: 0\n",
            "_________________________________________________________________\n"
          ]
        }
      ]
    },
    {
      "cell_type": "code",
      "source": [
        "# Export our model to HDF5 file\n",
        "best_model_1.save(OUTPUT_URL+\"AlphabetSoupCharity_Optimization.h5\")"
      ],
      "metadata": {
        "id": "de_LigHpbIAe"
      },
      "execution_count": 17,
      "outputs": []
    }
  ],
  "metadata": {
    "kernelspec": {
      "display_name": "Python 3",
      "language": "python",
      "name": "python3"
    },
    "language_info": {
      "codemirror_mode": {
        "name": "ipython",
        "version": 3
      },
      "file_extension": ".py",
      "mimetype": "text/x-python",
      "name": "python",
      "nbconvert_exporter": "python",
      "pygments_lexer": "ipython3",
      "version": "3.-1.-1"
    },
    "vscode": {
      "interpreter": {
        "hash": "31f2aee4e71d21fbe5cf8b01ff0e069b9275f58929596ceb00d14d90e3e16cd6"
      }
    },
    "colab": {
      "provenance": [],
      "include_colab_link": true
    }
  },
  "nbformat": 4,
  "nbformat_minor": 0
}