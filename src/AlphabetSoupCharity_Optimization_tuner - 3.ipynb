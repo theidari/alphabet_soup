{
  "cells": [
    {
      "cell_type": "markdown",
      "metadata": {
        "id": "view-in-github",
        "colab_type": "text"
      },
      "source": [
        "<a href=\"https://colab.research.google.com/github/theidari/alphabet_soup/blob/main/src/AlphabetSoupCharity_Optimization_tuner.ipynb\" target=\"_parent\"><img src=\"https://colab.research.google.com/assets/colab-badge.svg\" alt=\"Open In Colab\"/></a>"
      ]
    },
    {
      "cell_type": "markdown",
      "metadata": {
        "id": "ryMAU8Ulrfaf"
      },
      "source": [
        "#**Alphabet Soup Charity Optimization**"
      ]
    },
    {
      "cell_type": "markdown",
      "source": [
        "#**Step 3: Optimize the Model**\n",
        "---"
      ],
      "metadata": {
        "id": "GSzu3Lyr1J5m"
      }
    },
    {
      "cell_type": "code",
      "execution_count": 1,
      "metadata": {
        "id": "96HxmfWTrfag",
        "outputId": "f3d03933-cd02-4d79-f2d0-7dbbd696127c",
        "colab": {
          "base_uri": "https://localhost:8080/"
        }
      },
      "outputs": [
        {
          "output_type": "stream",
          "name": "stdout",
          "text": [
            "Cloning into 'alphabet_soup'...\n",
            "remote: Enumerating objects: 223, done.\u001b[K\n",
            "remote: Counting objects:   0% (1/223)\u001b[K\rremote: Counting objects:   1% (3/223)\u001b[K\rremote: Counting objects:   2% (5/223)\u001b[K\rremote: Counting objects:   3% (7/223)\u001b[K\rremote: Counting objects:   4% (9/223)\u001b[K\rremote: Counting objects:   5% (12/223)\u001b[K\rremote: Counting objects:   6% (14/223)\u001b[K\rremote: Counting objects:   7% (16/223)\u001b[K\rremote: Counting objects:   8% (18/223)\u001b[K\rremote: Counting objects:   9% (21/223)\u001b[K\rremote: Counting objects:  10% (23/223)\u001b[K\rremote: Counting objects:  11% (25/223)\u001b[K\rremote: Counting objects:  12% (27/223)\u001b[K\rremote: Counting objects:  13% (29/223)\u001b[K\rremote: Counting objects:  14% (32/223)\u001b[K\rremote: Counting objects:  15% (34/223)\u001b[K\rremote: Counting objects:  16% (36/223)\u001b[K\rremote: Counting objects:  17% (38/223)\u001b[K\rremote: Counting objects:  18% (41/223)\u001b[K\rremote: Counting objects:  19% (43/223)\u001b[K\rremote: Counting objects:  20% (45/223)\u001b[K\rremote: Counting objects:  21% (47/223)\u001b[K\rremote: Counting objects:  22% (50/223)\u001b[K\rremote: Counting objects:  23% (52/223)\u001b[K\rremote: Counting objects:  24% (54/223)\u001b[K\rremote: Counting objects:  25% (56/223)\u001b[K\rremote: Counting objects:  26% (58/223)\u001b[K\rremote: Counting objects:  27% (61/223)\u001b[K\rremote: Counting objects:  28% (63/223)\u001b[K\rremote: Counting objects:  29% (65/223)\u001b[K\rremote: Counting objects:  30% (67/223)\u001b[K\rremote: Counting objects:  31% (70/223)\u001b[K\rremote: Counting objects:  32% (72/223)\u001b[K\rremote: Counting objects:  33% (74/223)\u001b[K\rremote: Counting objects:  34% (76/223)\u001b[K\rremote: Counting objects:  35% (79/223)\u001b[K\rremote: Counting objects:  36% (81/223)\u001b[K\rremote: Counting objects:  37% (83/223)\u001b[K\rremote: Counting objects:  38% (85/223)\u001b[K\rremote: Counting objects:  39% (87/223)\u001b[K\rremote: Counting objects:  40% (90/223)\u001b[K\rremote: Counting objects:  41% (92/223)\u001b[K\rremote: Counting objects:  42% (94/223)\u001b[K\rremote: Counting objects:  43% (96/223)\u001b[K\rremote: Counting objects:  44% (99/223)\u001b[K\rremote: Counting objects:  45% (101/223)\u001b[K\rremote: Counting objects:  46% (103/223)\u001b[K\rremote: Counting objects:  47% (105/223)\u001b[K\rremote: Counting objects:  48% (108/223)\u001b[K\rremote: Counting objects:  49% (110/223)\u001b[K\rremote: Counting objects:  50% (112/223)\u001b[K\rremote: Counting objects:  51% (114/223)\u001b[K\rremote: Counting objects:  52% (116/223)\u001b[K\rremote: Counting objects:  53% (119/223)\u001b[K\rremote: Counting objects:  54% (121/223)\u001b[K\rremote: Counting objects:  55% (123/223)\u001b[K\rremote: Counting objects:  56% (125/223)\u001b[K\rremote: Counting objects:  57% (128/223)\u001b[K\rremote: Counting objects:  58% (130/223)\u001b[K\rremote: Counting objects:  59% (132/223)\u001b[K\rremote: Counting objects:  60% (134/223)\u001b[K\rremote: Counting objects:  61% (137/223)\u001b[K\rremote: Counting objects:  62% (139/223)\u001b[K\rremote: Counting objects:  63% (141/223)\u001b[K\rremote: Counting objects:  64% (143/223)\u001b[K\rremote: Counting objects:  65% (145/223)\u001b[K\rremote: Counting objects:  66% (148/223)\u001b[K\rremote: Counting objects:  67% (150/223)\u001b[K\rremote: Counting objects:  68% (152/223)\u001b[K\rremote: Counting objects:  69% (154/223)\u001b[K\rremote: Counting objects:  70% (157/223)\u001b[K\rremote: Counting objects:  71% (159/223)\u001b[K\rremote: Counting objects:  72% (161/223)\u001b[K\rremote: Counting objects:  73% (163/223)\u001b[K\rremote: Counting objects:  74% (166/223)\u001b[K\rremote: Counting objects:  75% (168/223)\u001b[K\rremote: Counting objects:  76% (170/223)\u001b[K\rremote: Counting objects:  77% (172/223)\u001b[K\rremote: Counting objects:  78% (174/223)\u001b[K\rremote: Counting objects:  79% (177/223)\u001b[K\rremote: Counting objects:  80% (179/223)\u001b[K\rremote: Counting objects:  81% (181/223)\u001b[K\rremote: Counting objects:  82% (183/223)\u001b[K\rremote: Counting objects:  83% (186/223)\u001b[K\rremote: Counting objects:  84% (188/223)\u001b[K\rremote: Counting objects:  85% (190/223)\u001b[K\rremote: Counting objects:  86% (192/223)\u001b[K\rremote: Counting objects:  87% (195/223)\u001b[K\rremote: Counting objects:  88% (197/223)\u001b[K\rremote: Counting objects:  89% (199/223)\u001b[K\rremote: Counting objects:  90% (201/223)\u001b[K\rremote: Counting objects:  91% (203/223)\u001b[K\rremote: Counting objects:  92% (206/223)\u001b[K\rremote: Counting objects:  93% (208/223)\u001b[K\rremote: Counting objects:  94% (210/223)\u001b[K\rremote: Counting objects:  95% (212/223)\u001b[K\rremote: Counting objects:  96% (215/223)\u001b[K\rremote: Counting objects:  97% (217/223)\u001b[K\rremote: Counting objects:  98% (219/223)\u001b[K\rremote: Counting objects:  99% (221/223)\u001b[K\rremote: Counting objects: 100% (223/223)\u001b[K\rremote: Counting objects: 100% (223/223), done.\u001b[K\n",
            "remote: Compressing objects: 100% (213/213), done.\u001b[K\n",
            "remote: Total 223 (delta 155), reused 15 (delta 7), pack-reused 0\u001b[K\n",
            "Receiving objects: 100% (223/223), 250.50 KiB | 4.64 MiB/s, done.\n",
            "Resolving deltas: 100% (155/155), done.\n",
            "☑ constants is imporetd\n",
            "☑ helpers is imporetd\n"
          ]
        }
      ],
      "source": [
        "# Delete the existing directory\n",
        "!rm -rf alphabet_soup\n",
        "\n",
        "# Clone the repository to a new directory\n",
        "!git clone https://github.com/theidari/alphabet_soup.git\n",
        "\n",
        "# Dependencies and setup\n",
        "from alphabet_soup.src.package.constants import * # constants\n",
        "from alphabet_soup.src.package.helpers import * # liberaries and functions"
      ]
    },
    {
      "cell_type": "code",
      "source": [
        "# Loading the data into a Pandas DataFrame\n",
        "application_df = pd.read_csv(DATA_URL)"
      ],
      "metadata": {
        "id": "y4Ya1duorvz2"
      },
      "execution_count": 2,
      "outputs": []
    },
    {
      "cell_type": "code",
      "source": [
        "# Drop the 'EIN' column.\n",
        "application_df = application_df.drop(columns=[\"EIN\"], axis=1)"
      ],
      "metadata": {
        "id": "hTJCJeLVRjHU"
      },
      "execution_count": 3,
      "outputs": []
    },
    {
      "cell_type": "code",
      "execution_count": 4,
      "metadata": {
        "id": "IhfocLrmrfah",
        "outputId": "6a1f0e7e-1ce2-4270-f5d4-844f8abeae71",
        "colab": {
          "base_uri": "https://localhost:8080/"
        }
      },
      "outputs": [
        {
          "output_type": "stream",
          "name": "stdout",
          "text": [
            "\n",
            "--------------------------------------------------------------------------------\n",
            " Value Count before binning:\n",
            "--------------------------------------------------------------------------------\n",
            "C1000    17326\n",
            "C2000     6074\n",
            "C1200     4837\n",
            "C3000     1918\n",
            "C2100     1883\n",
            "         ...  \n",
            "C4120        1\n",
            "C8210        1\n",
            "C2561        1\n",
            "C4500        1\n",
            "C2150        1\n",
            "Name: CLASSIFICATION, Length: 71, dtype: int64\n",
            "--------------------------------------------------------------------------------\n",
            "Value Count after binning:\n",
            "--------------------------------------------------------------------------------\n",
            "C1000    17326\n",
            "C2000     6074\n",
            "C1200     4837\n",
            "Other     2261\n",
            "C3000     1918\n",
            "C2100     1883\n",
            "Name: CLASSIFICATION, dtype: int64\n"
          ]
        }
      ],
      "source": [
        "binning (application_df,'CLASSIFICATION',800)"
      ]
    },
    {
      "cell_type": "code",
      "execution_count": 5,
      "metadata": {
        "id": "-JyuuUchrfah",
        "outputId": "8ba44f5d-4500-49b1-9504-1bbf69e062f1",
        "colab": {
          "base_uri": "https://localhost:8080/"
        }
      },
      "outputs": [
        {
          "output_type": "stream",
          "name": "stdout",
          "text": [
            "\n",
            "--------------------------------------------------------------------------------\n",
            " Value Count before binning:\n",
            "--------------------------------------------------------------------------------\n",
            "T3     27037\n",
            "T4      1542\n",
            "T6      1216\n",
            "T5      1173\n",
            "T19     1065\n",
            "T8       737\n",
            "T7       725\n",
            "T10      528\n",
            "T9       156\n",
            "T13       66\n",
            "T12       27\n",
            "T2        16\n",
            "T25        3\n",
            "T14        3\n",
            "T29        2\n",
            "T15        2\n",
            "T17        1\n",
            "Name: APPLICATION_TYPE, dtype: int64\n",
            "--------------------------------------------------------------------------------\n",
            "Value Count after binning:\n",
            "--------------------------------------------------------------------------------\n",
            "T3       27037\n",
            "T4        1542\n",
            "T6        1216\n",
            "T5        1173\n",
            "T19       1065\n",
            "T8         737\n",
            "T7         725\n",
            "T10        528\n",
            "Other      276\n",
            "Name: APPLICATION_TYPE, dtype: int64\n"
          ]
        }
      ],
      "source": [
        "binning (application_df,'APPLICATION_TYPE',500)"
      ]
    },
    {
      "cell_type": "code",
      "source": [
        "binning (application_df,'NAME',100)"
      ],
      "metadata": {
        "id": "UP2qHFstIczU",
        "outputId": "03ea8807-6cbc-4e7d-d9a7-4de8376473f9",
        "colab": {
          "base_uri": "https://localhost:8080/"
        }
      },
      "execution_count": 6,
      "outputs": [
        {
          "output_type": "stream",
          "name": "stdout",
          "text": [
            "\n",
            "--------------------------------------------------------------------------------\n",
            " Value Count before binning:\n",
            "--------------------------------------------------------------------------------\n",
            "PARENT BOOSTER USA INC                                                  1260\n",
            "TOPS CLUB INC                                                            765\n",
            "UNITED STATES BOWLING CONGRESS INC                                       700\n",
            "WASHINGTON STATE UNIVERSITY                                              492\n",
            "AMATEUR ATHLETIC UNION OF THE UNITED STATES INC                          408\n",
            "                                                                        ... \n",
            "ST LOUIS SLAM WOMENS FOOTBALL                                              1\n",
            "AIESEC ALUMNI IBEROAMERICA CORP                                            1\n",
            "WEALLBLEEDRED ORG INC                                                      1\n",
            "AMERICAN SOCIETY FOR STANDARDS IN MEDIUMSHIP & PSYCHICAL INVESTIGATI       1\n",
            "WATERHOUSE CHARITABLE TR                                                   1\n",
            "Name: NAME, Length: 19568, dtype: int64\n",
            "--------------------------------------------------------------------------------\n",
            "Value Count after binning:\n",
            "--------------------------------------------------------------------------------\n",
            "Other                                                                 25987\n",
            "PARENT BOOSTER USA INC                                                 1260\n",
            "TOPS CLUB INC                                                           765\n",
            "UNITED STATES BOWLING CONGRESS INC                                      700\n",
            "WASHINGTON STATE UNIVERSITY                                             492\n",
            "AMATEUR ATHLETIC UNION OF THE UNITED STATES INC                         408\n",
            "PTA TEXAS CONGRESS                                                      368\n",
            "SOROPTIMIST INTERNATIONAL OF THE AMERICAS INC                           331\n",
            "ALPHA PHI SIGMA                                                         313\n",
            "TOASTMASTERS INTERNATIONAL                                              293\n",
            "MOST WORSHIPFUL STRINGER FREE AND ACCEPTED MASONS                       287\n",
            "LITTLE LEAGUE BASEBALL INC                                              277\n",
            "INTERNATIONAL ASSOCIATION OF LIONS CLUBS                                266\n",
            "MOMS CLUB                                                               210\n",
            "INTERNATIONAL ASSOCIATION OF SHEET METAL AIR RAIL & TRANSPORTATION      206\n",
            "AMERICAN ASSOCIATION OF UNIVERSITY WOMEN                                197\n",
            "FARMERS EDUCATIONAL AND COOPERATIVE UNION OF AMERICA                    166\n",
            "KNIGHTS OF COLUMBUS                                                     158\n",
            "HABITAT FOR HUMANITY INTERNATIONAL INC                                  154\n",
            "TENNESSEE ORDER OF THE EASTERN STAR                                     151\n",
            "VETERANS OF FOREIGN WARS OF THE UNITED STATES AUXILIARY                 144\n",
            "PTA UTAH CONGRESS                                                       140\n",
            "THE UNITED STATES PONY CLUBS INC                                        136\n",
            "CIVITAN INTERNATIONAL                                                   131\n",
            "SIGMA BETA DELTA INC                                                    127\n",
            "HONOR SOCIETY OF PHI KAPPA PHI                                          107\n",
            "MONTANA 4-H FOUNDATION INC                                              107\n",
            "WASHINGTON STATE GRANGE                                                 106\n",
            "UNIVERSITY OF WYOMING                                                   105\n",
            "DEMOLAY INTERNATIONAL                                                   104\n",
            "SERTOMA INC                                                             103\n",
            "Name: NAME, dtype: int64\n"
          ]
        }
      ]
    },
    {
      "cell_type": "code",
      "source": [
        "# Convert categorical data to numeric with `pd.get_dummies`\n",
        "application_numeric = pd.get_dummies(application_df)"
      ],
      "metadata": {
        "id": "u5cX5Qqs65hm"
      },
      "execution_count": 7,
      "outputs": []
    },
    {
      "cell_type": "code",
      "execution_count": 8,
      "metadata": {
        "id": "6tOXFGUCrfai"
      },
      "outputs": [],
      "source": [
        "# Split our preprocessed data into our features and target arrays\n",
        "X = application_numeric.drop(['IS_SUCCESSFUL'], axis=1)\n",
        "y = application_numeric['IS_SUCCESSFUL']\n",
        "\n",
        "# Split the preprocessed data into a training and testing dataset\n",
        "X_train, X_test, y_train, y_test = train_test_split(X, y, random_state=0)\n",
        "\n",
        "# Create a StandardScaler instances\n",
        "scaler = StandardScaler()\n",
        "\n",
        "# Fit the StandardScaler\n",
        "X_scaler = scaler.fit(X_train)\n",
        "\n",
        "# Scale the data\n",
        "X_train_scaled = X_scaler.transform(X_train)\n",
        "X_test_scaled = X_scaler.transform(X_test)\n",
        "\n",
        "input_features=len(X_train_scaled[1])"
      ]
    },
    {
      "cell_type": "code",
      "source": [
        "def create_model(hp):\n",
        "    nn_model = tf.keras.models.Sequential()\n",
        "\n",
        "    # Allow kerastuner to decide which activation function to use in hidden layers\n",
        "    activation = hp.Choice('activation',['relu','tanh',\"sigmoid\"])\n",
        "    \n",
        "    # Allow kerastuner to decide number of neurons in first layer\n",
        "    nn_model.add(tf.keras.layers.Dense(units=hp.Int('first_units',\n",
        "        min_value=1,\n",
        "        max_value=300,\n",
        "        step=5), activation=activation, input_dim=input_features))\n",
        "\n",
        "    # Allow kerastuner to decide number of hidden layers and neurons in hidden layers\n",
        "    for i in range(hp.Int('num_layers', 1, 8)):\n",
        "        nn_model.add(tf.keras.layers.Dense(units=hp.Int('units_' + str(i),\n",
        "            min_value=1,\n",
        "            max_value=160,\n",
        "            step=5),\n",
        "            activation=activation))\n",
        "    \n",
        "    nn_model.add(tf.keras.layers.Dense(units=1, activation=\"sigmoid\"))\n",
        "\n",
        "    # Compile the model\n",
        "    nn_model.compile(loss=\"binary_crossentropy\", optimizer='adam', metrics=[\"accuracy\"])\n",
        "    \n",
        "    return nn_model"
      ],
      "metadata": {
        "id": "HE_wh_uEopVa"
      },
      "execution_count": 9,
      "outputs": []
    },
    {
      "cell_type": "code",
      "source": [
        "!pip install -q -U keras-tuner\n",
        "import keras_tuner as kt\n",
        "\n",
        "tuner = kt.Hyperband(\n",
        "    create_model,\n",
        "    objective=\"val_accuracy\",\n",
        "    max_epochs=35,\n",
        "    hyperband_iterations=2)"
      ],
      "metadata": {
        "id": "qwIWpB9ToxNW"
      },
      "execution_count": 10,
      "outputs": []
    },
    {
      "cell_type": "code",
      "source": [
        "tuner.search(X_train_scaled,y_train,epochs=35,validation_data=(X_test_scaled,y_test)) "
      ],
      "metadata": {
        "id": "5uUJOqPPrEhW",
        "outputId": "0dd4b116-129d-4fb0-c5ed-dfd5f9868916",
        "colab": {
          "base_uri": "https://localhost:8080/"
        }
      },
      "execution_count": 11,
      "outputs": [
        {
          "output_type": "stream",
          "name": "stdout",
          "text": [
            "Trial 180 Complete [00h 02m 24s]\n",
            "val_accuracy: 0.7514868974685669\n",
            "\n",
            "Best val_accuracy So Far: 0.7551020383834839\n",
            "Total elapsed time: 01h 26m 15s\n"
          ]
        }
      ]
    },
    {
      "cell_type": "code",
      "source": [
        "top_hyper = tuner.get_best_hyperparameters(3)\n",
        "for param in top_hyper:\n",
        "    print(param.values)"
      ],
      "metadata": {
        "id": "mfSF0R1VF3F0",
        "outputId": "d3c79774-4a2f-47ab-a81d-4b77744737b4",
        "colab": {
          "base_uri": "https://localhost:8080/"
        }
      },
      "execution_count": 12,
      "outputs": [
        {
          "output_type": "stream",
          "name": "stdout",
          "text": [
            "{'activation': 'relu', 'first_units': 241, 'num_layers': 5, 'units_0': 26, 'units_1': 101, 'units_2': 146, 'units_3': 61, 'units_4': 16, 'units_5': 156, 'units_6': 16, 'tuner/epochs': 12, 'tuner/initial_epoch': 4, 'tuner/bracket': 3, 'tuner/round': 2, 'tuner/trial_id': '0044', 'units_7': 156}\n",
            "{'activation': 'relu', 'first_units': 51, 'num_layers': 3, 'units_0': 66, 'units_1': 111, 'units_2': 141, 'units_3': 136, 'units_4': 126, 'units_5': 51, 'units_6': 41, 'units_7': 116, 'tuner/epochs': 35, 'tuner/initial_epoch': 12, 'tuner/bracket': 1, 'tuner/round': 1, 'tuner/trial_id': '0080'}\n",
            "{'activation': 'relu', 'first_units': 96, 'num_layers': 6, 'units_0': 101, 'units_1': 36, 'units_2': 26, 'units_3': 31, 'units_4': 156, 'units_5': 21, 'units_6': 136, 'units_7': 21, 'tuner/epochs': 12, 'tuner/initial_epoch': 4, 'tuner/bracket': 3, 'tuner/round': 2, 'tuner/trial_id': '0125'}\n"
          ]
        }
      ]
    },
    {
      "cell_type": "code",
      "source": [
        "top_model = tuner.get_best_models(3)\n",
        "for model in top_model:\n",
        "    model_loss, model_accuracy = model.evaluate(X_test_scaled,y_test,verbose=2)\n",
        "    print(f\"Loss: {model_loss}, Accuracy: {model_accuracy}\")"
      ],
      "metadata": {
        "id": "uzNIQARHGIwW",
        "outputId": "b06bf14d-dd48-4bfa-d670-f4971648d17d",
        "colab": {
          "base_uri": "https://localhost:8080/"
        }
      },
      "execution_count": 13,
      "outputs": [
        {
          "output_type": "stream",
          "name": "stdout",
          "text": [
            "268/268 - 1s - loss: 0.4974 - accuracy: 0.7551 - 639ms/epoch - 2ms/step\n",
            "Loss: 0.4973735809326172, Accuracy: 0.7551020383834839\n",
            "268/268 - 1s - loss: 0.5038 - accuracy: 0.7551 - 574ms/epoch - 2ms/step\n",
            "Loss: 0.5038114190101624, Accuracy: 0.7551020383834839\n",
            "268/268 - 1s - loss: 0.5026 - accuracy: 0.7548 - 604ms/epoch - 2ms/step\n",
            "Loss: 0.5026103258132935, Accuracy: 0.7547521591186523\n"
          ]
        }
      ]
    },
    {
      "cell_type": "code",
      "source": [
        "models = tuner.get_best_models(num_models=3)\n",
        "best_model = models[1]\n",
        "\n",
        "best_model.build()\n",
        "best_model.summary()"
      ],
      "metadata": {
        "id": "1MUSmBBjGopH",
        "outputId": "859bcce9-d8d1-48c4-daf6-6958787b8a53",
        "colab": {
          "base_uri": "https://localhost:8080/"
        }
      },
      "execution_count": 31,
      "outputs": [
        {
          "output_type": "stream",
          "name": "stdout",
          "text": [
            "Model: \"sequential\"\n",
            "_________________________________________________________________\n",
            " Layer (type)                Output Shape              Param #   \n",
            "=================================================================\n",
            " dense (Dense)               (None, 51)                3825      \n",
            "                                                                 \n",
            " dense_1 (Dense)             (None, 66)                3432      \n",
            "                                                                 \n",
            " dense_2 (Dense)             (None, 111)               7437      \n",
            "                                                                 \n",
            " dense_3 (Dense)             (None, 141)               15792     \n",
            "                                                                 \n",
            " dense_4 (Dense)             (None, 1)                 142       \n",
            "                                                                 \n",
            "=================================================================\n",
            "Total params: 30,628\n",
            "Trainable params: 30,628\n",
            "Non-trainable params: 0\n",
            "_________________________________________________________________\n"
          ]
        },
        {
          "output_type": "stream",
          "name": "stderr",
          "text": [
            "WARNING:tensorflow:Detecting that an object or model or tf.train.Checkpoint is being deleted with unrestored values. See the following logs for the specific values in question. To silence these warnings, use `status.expect_partial()`. See https://www.tensorflow.org/api_docs/python/tf/train/Checkpoint#restorefor details about the status object returned by the restore function.\n",
            "WARNING:tensorflow:Value in checkpoint could not be found in the restored object: (root).optimizer._variables.1\n",
            "WARNING:tensorflow:Value in checkpoint could not be found in the restored object: (root).optimizer._variables.2\n",
            "WARNING:tensorflow:Value in checkpoint could not be found in the restored object: (root).optimizer._variables.3\n",
            "WARNING:tensorflow:Value in checkpoint could not be found in the restored object: (root).optimizer._variables.4\n",
            "WARNING:tensorflow:Value in checkpoint could not be found in the restored object: (root).optimizer._variables.5\n",
            "WARNING:tensorflow:Value in checkpoint could not be found in the restored object: (root).optimizer._variables.6\n",
            "WARNING:tensorflow:Value in checkpoint could not be found in the restored object: (root).optimizer._variables.7\n",
            "WARNING:tensorflow:Value in checkpoint could not be found in the restored object: (root).optimizer._variables.8\n",
            "WARNING:tensorflow:Value in checkpoint could not be found in the restored object: (root).optimizer._variables.9\n",
            "WARNING:tensorflow:Value in checkpoint could not be found in the restored object: (root).optimizer._variables.10\n",
            "WARNING:tensorflow:Value in checkpoint could not be found in the restored object: (root).optimizer._variables.11\n",
            "WARNING:tensorflow:Value in checkpoint could not be found in the restored object: (root).optimizer._variables.12\n",
            "WARNING:tensorflow:Value in checkpoint could not be found in the restored object: (root).optimizer._variables.13\n",
            "WARNING:tensorflow:Value in checkpoint could not be found in the restored object: (root).optimizer._variables.14\n",
            "WARNING:tensorflow:Value in checkpoint could not be found in the restored object: (root).optimizer._variables.15\n",
            "WARNING:tensorflow:Value in checkpoint could not be found in the restored object: (root).optimizer._variables.16\n",
            "WARNING:tensorflow:Value in checkpoint could not be found in the restored object: (root).optimizer._variables.17\n"
          ]
        }
      ]
    }
  ],
  "metadata": {
    "kernelspec": {
      "display_name": "Python 3",
      "language": "python",
      "name": "python3"
    },
    "language_info": {
      "codemirror_mode": {
        "name": "ipython",
        "version": 3
      },
      "file_extension": ".py",
      "mimetype": "text/x-python",
      "name": "python",
      "nbconvert_exporter": "python",
      "pygments_lexer": "ipython3",
      "version": "3.-1.-1"
    },
    "vscode": {
      "interpreter": {
        "hash": "31f2aee4e71d21fbe5cf8b01ff0e069b9275f58929596ceb00d14d90e3e16cd6"
      }
    },
    "colab": {
      "provenance": [],
      "include_colab_link": true
    }
  },
  "nbformat": 4,
  "nbformat_minor": 0
}