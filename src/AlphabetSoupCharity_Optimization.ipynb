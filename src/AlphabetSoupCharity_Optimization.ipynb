{
  "cells": [
    {
      "cell_type": "markdown",
      "metadata": {
        "id": "view-in-github",
        "colab_type": "text"
      },
      "source": [
        "<a href=\"https://colab.research.google.com/github/theidari/alphabet_soup/blob/main/src/AlphabetSoupCharity_Optimization.ipynb\" target=\"_parent\"><img src=\"https://colab.research.google.com/assets/colab-badge.svg\" alt=\"Open In Colab\"/></a>"
      ]
    },
    {
      "cell_type": "markdown",
      "metadata": {
        "id": "ryMAU8Ulrfaf"
      },
      "source": [
        "#**Alphabet Soup Charity Optimization**"
      ]
    },
    {
      "cell_type": "markdown",
      "source": [
        "#**Step 3: Optimize the Model**\n",
        "---"
      ],
      "metadata": {
        "id": "GSzu3Lyr1J5m"
      }
    },
    {
      "cell_type": "code",
      "execution_count": 1,
      "metadata": {
        "id": "96HxmfWTrfag",
        "outputId": "249f9e88-1524-4ae6-8655-137005e8768b",
        "colab": {
          "base_uri": "https://localhost:8080/"
        }
      },
      "outputs": [
        {
          "output_type": "stream",
          "name": "stdout",
          "text": [
            "Cloning into 'alphabet_soup'...\n",
            "remote: Enumerating objects: 197, done.\u001b[K\n",
            "remote: Counting objects: 100% (197/197), done.\u001b[K\n",
            "remote: Compressing objects: 100% (189/189), done.\u001b[K\n",
            "remote: Total 197 (delta 138), reused 10 (delta 5), pack-reused 0\u001b[K\n",
            "Receiving objects: 100% (197/197), 51.77 KiB | 12.94 MiB/s, done.\n",
            "Resolving deltas: 100% (138/138), done.\n",
            "☑ constants is imporetd\n",
            "☑ helpers is imporetd\n"
          ]
        }
      ],
      "source": [
        "# Delete the existing directory\n",
        "!rm -rf alphabet_soup\n",
        "\n",
        "# Clone the repository to a new directory\n",
        "!git clone https://github.com/theidari/alphabet_soup.git\n",
        "\n",
        "# Dependencies and setup\n",
        "from alphabet_soup.src.package.constants import * # constants\n",
        "from alphabet_soup.src.package.helpers import * # liberaries and functions"
      ]
    },
    {
      "cell_type": "code",
      "source": [
        "# Loading the data into a Pandas DataFrame\n",
        "application_df = pd.read_csv(DATA_URL)"
      ],
      "metadata": {
        "id": "y4Ya1duorvz2"
      },
      "execution_count": 2,
      "outputs": []
    },
    {
      "cell_type": "code",
      "source": [
        "# Drop the 'EIN' column.\n",
        "application_df = application_df.drop(columns=[\"EIN\"], axis=1)"
      ],
      "metadata": {
        "id": "hTJCJeLVRjHU"
      },
      "execution_count": 3,
      "outputs": []
    },
    {
      "cell_type": "code",
      "execution_count": 4,
      "metadata": {
        "id": "IhfocLrmrfah",
        "outputId": "aa4092cb-d561-425a-dc43-026c5019fa4a",
        "colab": {
          "base_uri": "https://localhost:8080/"
        }
      },
      "outputs": [
        {
          "output_type": "stream",
          "name": "stdout",
          "text": [
            "\n",
            "--------------------------------------------------------------------------------\n",
            " Value Count before binning:\n",
            "--------------------------------------------------------------------------------\n",
            "C1000    17326\n",
            "C2000     6074\n",
            "C1200     4837\n",
            "C3000     1918\n",
            "C2100     1883\n",
            "         ...  \n",
            "C4120        1\n",
            "C8210        1\n",
            "C2561        1\n",
            "C4500        1\n",
            "C2150        1\n",
            "Name: CLASSIFICATION, Length: 71, dtype: int64\n",
            "--------------------------------------------------------------------------------\n",
            "Value Count after binning:\n",
            "--------------------------------------------------------------------------------\n",
            "C1000    17326\n",
            "C2000     6074\n",
            "C1200     4837\n",
            "Other     2261\n",
            "C3000     1918\n",
            "C2100     1883\n",
            "Name: CLASSIFICATION, dtype: int64\n"
          ]
        }
      ],
      "source": [
        "binning (application_df,'CLASSIFICATION',800)"
      ]
    },
    {
      "cell_type": "code",
      "execution_count": 5,
      "metadata": {
        "id": "-JyuuUchrfah",
        "outputId": "6f58cf49-f723-4a1a-862b-d57c2243afc2",
        "colab": {
          "base_uri": "https://localhost:8080/"
        }
      },
      "outputs": [
        {
          "output_type": "stream",
          "name": "stdout",
          "text": [
            "\n",
            "--------------------------------------------------------------------------------\n",
            " Value Count before binning:\n",
            "--------------------------------------------------------------------------------\n",
            "T3     27037\n",
            "T4      1542\n",
            "T6      1216\n",
            "T5      1173\n",
            "T19     1065\n",
            "T8       737\n",
            "T7       725\n",
            "T10      528\n",
            "T9       156\n",
            "T13       66\n",
            "T12       27\n",
            "T2        16\n",
            "T25        3\n",
            "T14        3\n",
            "T29        2\n",
            "T15        2\n",
            "T17        1\n",
            "Name: APPLICATION_TYPE, dtype: int64\n",
            "--------------------------------------------------------------------------------\n",
            "Value Count after binning:\n",
            "--------------------------------------------------------------------------------\n",
            "T3       27037\n",
            "T4        1542\n",
            "T6        1216\n",
            "T5        1173\n",
            "T19       1065\n",
            "T8         737\n",
            "T7         725\n",
            "T10        528\n",
            "Other      276\n",
            "Name: APPLICATION_TYPE, dtype: int64\n"
          ]
        }
      ],
      "source": [
        "binning (application_df,'APPLICATION_TYPE',500)"
      ]
    },
    {
      "cell_type": "code",
      "source": [
        "binning (application_df,'NAME',100)"
      ],
      "metadata": {
        "id": "UP2qHFstIczU",
        "outputId": "3178b9f3-c727-40d3-8cbf-9c95f0336081",
        "colab": {
          "base_uri": "https://localhost:8080/"
        }
      },
      "execution_count": 6,
      "outputs": [
        {
          "output_type": "stream",
          "name": "stdout",
          "text": [
            "\n",
            "--------------------------------------------------------------------------------\n",
            " Value Count before binning:\n",
            "--------------------------------------------------------------------------------\n",
            "PARENT BOOSTER USA INC                                                  1260\n",
            "TOPS CLUB INC                                                            765\n",
            "UNITED STATES BOWLING CONGRESS INC                                       700\n",
            "WASHINGTON STATE UNIVERSITY                                              492\n",
            "AMATEUR ATHLETIC UNION OF THE UNITED STATES INC                          408\n",
            "                                                                        ... \n",
            "ST LOUIS SLAM WOMENS FOOTBALL                                              1\n",
            "AIESEC ALUMNI IBEROAMERICA CORP                                            1\n",
            "WEALLBLEEDRED ORG INC                                                      1\n",
            "AMERICAN SOCIETY FOR STANDARDS IN MEDIUMSHIP & PSYCHICAL INVESTIGATI       1\n",
            "WATERHOUSE CHARITABLE TR                                                   1\n",
            "Name: NAME, Length: 19568, dtype: int64\n",
            "--------------------------------------------------------------------------------\n",
            "Value Count after binning:\n",
            "--------------------------------------------------------------------------------\n",
            "Other                                                                 25987\n",
            "PARENT BOOSTER USA INC                                                 1260\n",
            "TOPS CLUB INC                                                           765\n",
            "UNITED STATES BOWLING CONGRESS INC                                      700\n",
            "WASHINGTON STATE UNIVERSITY                                             492\n",
            "AMATEUR ATHLETIC UNION OF THE UNITED STATES INC                         408\n",
            "PTA TEXAS CONGRESS                                                      368\n",
            "SOROPTIMIST INTERNATIONAL OF THE AMERICAS INC                           331\n",
            "ALPHA PHI SIGMA                                                         313\n",
            "TOASTMASTERS INTERNATIONAL                                              293\n",
            "MOST WORSHIPFUL STRINGER FREE AND ACCEPTED MASONS                       287\n",
            "LITTLE LEAGUE BASEBALL INC                                              277\n",
            "INTERNATIONAL ASSOCIATION OF LIONS CLUBS                                266\n",
            "MOMS CLUB                                                               210\n",
            "INTERNATIONAL ASSOCIATION OF SHEET METAL AIR RAIL & TRANSPORTATION      206\n",
            "AMERICAN ASSOCIATION OF UNIVERSITY WOMEN                                197\n",
            "FARMERS EDUCATIONAL AND COOPERATIVE UNION OF AMERICA                    166\n",
            "KNIGHTS OF COLUMBUS                                                     158\n",
            "HABITAT FOR HUMANITY INTERNATIONAL INC                                  154\n",
            "TENNESSEE ORDER OF THE EASTERN STAR                                     151\n",
            "VETERANS OF FOREIGN WARS OF THE UNITED STATES AUXILIARY                 144\n",
            "PTA UTAH CONGRESS                                                       140\n",
            "THE UNITED STATES PONY CLUBS INC                                        136\n",
            "CIVITAN INTERNATIONAL                                                   131\n",
            "SIGMA BETA DELTA INC                                                    127\n",
            "HONOR SOCIETY OF PHI KAPPA PHI                                          107\n",
            "MONTANA 4-H FOUNDATION INC                                              107\n",
            "WASHINGTON STATE GRANGE                                                 106\n",
            "UNIVERSITY OF WYOMING                                                   105\n",
            "DEMOLAY INTERNATIONAL                                                   104\n",
            "SERTOMA INC                                                             103\n",
            "Name: NAME, dtype: int64\n"
          ]
        }
      ]
    },
    {
      "cell_type": "code",
      "source": [
        "# Convert categorical data to numeric with `pd.get_dummies`\n",
        "application_numeric = pd.get_dummies(application_df)"
      ],
      "metadata": {
        "id": "u5cX5Qqs65hm"
      },
      "execution_count": 7,
      "outputs": []
    },
    {
      "cell_type": "code",
      "execution_count": 8,
      "metadata": {
        "id": "6tOXFGUCrfai"
      },
      "outputs": [],
      "source": [
        "# Split our preprocessed data into our features and target arrays\n",
        "X = application_numeric.drop(['IS_SUCCESSFUL'], axis=1)\n",
        "y = application_numeric['IS_SUCCESSFUL']\n",
        "\n",
        "# Split the preprocessed data into a training and testing dataset\n",
        "X_train, X_test, y_train, y_test = train_test_split(X, y, random_state=0)\n",
        "\n",
        "# Create a StandardScaler instances\n",
        "scaler = StandardScaler()\n",
        "\n",
        "# Fit the StandardScaler\n",
        "X_scaler = scaler.fit(X_train)\n",
        "\n",
        "# Scale the data\n",
        "X_train_scaled = X_scaler.transform(X_train)\n",
        "X_test_scaled = X_scaler.transform(X_test)\n",
        "\n",
        "input_features=len(X_train_scaled[1])"
      ]
    },
    {
      "cell_type": "code",
      "source": [
        "# Define the model - deep neural net, i.e., the number of input features and hidden nodes for each layer and Compile the model \n",
        "as_model=as_model_func([80,80,50,100,50,10],input_features,\"relu\")"
      ],
      "metadata": {
        "id": "3ZogV7Zu4J5j",
        "outputId": "5cf1a60d-3e4b-46b4-8c10-901b53a1908f",
        "colab": {
          "base_uri": "https://localhost:8080/"
        }
      },
      "execution_count": 9,
      "outputs": [
        {
          "output_type": "stream",
          "name": "stdout",
          "text": [
            "Model: \"sequential\"\n",
            "_________________________________________________________________\n",
            " Layer (type)                Output Shape              Param #   \n",
            "=================================================================\n",
            " dense (Dense)               (None, 80)                6000      \n",
            "                                                                 \n",
            " dense_1 (Dense)             (None, 80)                6480      \n",
            "                                                                 \n",
            " dense_2 (Dense)             (None, 50)                4050      \n",
            "                                                                 \n",
            " dense_3 (Dense)             (None, 100)               5100      \n",
            "                                                                 \n",
            " dense_4 (Dense)             (None, 50)                5050      \n",
            "                                                                 \n",
            " dense_5 (Dense)             (None, 10)                510       \n",
            "                                                                 \n",
            " dense_6 (Dense)             (None, 1)                 11        \n",
            "                                                                 \n",
            "=================================================================\n",
            "Total params: 27,201\n",
            "Trainable params: 27,201\n",
            "Non-trainable params: 0\n",
            "_________________________________________________________________\n",
            "None\n"
          ]
        }
      ]
    },
    {
      "cell_type": "code",
      "execution_count": 9,
      "metadata": {
        "id": "OmJi297Xrfai"
      },
      "outputs": [],
      "source": []
    },
    {
      "cell_type": "code",
      "source": [],
      "metadata": {
        "id": "KBHA1T9RXP9D"
      },
      "execution_count": 9,
      "outputs": []
    },
    {
      "cell_type": "code",
      "execution_count": 10,
      "metadata": {
        "id": "n4-dY4-jrfaj",
        "outputId": "8927f438-3a5b-4708-9ec3-aa296e6f6ea6",
        "colab": {
          "base_uri": "https://localhost:8080/"
        }
      },
      "outputs": [
        {
          "output_type": "stream",
          "name": "stdout",
          "text": [
            "Epoch 1/100\n",
            "804/804 [==============================] - 5s 3ms/step - loss: 0.5106 - accuracy: 0.7482\n",
            "Epoch 2/100\n",
            "804/804 [==============================] - 2s 3ms/step - loss: 0.4929 - accuracy: 0.7582\n",
            "Epoch 3/100\n",
            "804/804 [==============================] - 2s 3ms/step - loss: 0.4891 - accuracy: 0.7598\n",
            "Epoch 4/100\n",
            "804/804 [==============================] - 3s 3ms/step - loss: 0.4876 - accuracy: 0.7603\n",
            "Epoch 5/100\n",
            "804/804 [==============================] - 4s 5ms/step - loss: 0.4864 - accuracy: 0.7626\n",
            "Epoch 6/100\n",
            "804/804 [==============================] - 3s 3ms/step - loss: 0.4850 - accuracy: 0.7616\n",
            "Epoch 7/100\n",
            "804/804 [==============================] - 3s 3ms/step - loss: 0.4842 - accuracy: 0.7636\n",
            "Epoch 8/100\n",
            "804/804 [==============================] - 2s 3ms/step - loss: 0.4832 - accuracy: 0.7627\n",
            "Epoch 9/100\n",
            "804/804 [==============================] - 2s 3ms/step - loss: 0.4817 - accuracy: 0.7637\n",
            "Epoch 10/100\n",
            "804/804 [==============================] - 3s 4ms/step - loss: 0.4817 - accuracy: 0.7638\n",
            "Epoch 11/100\n",
            "804/804 [==============================] - 2s 3ms/step - loss: 0.4816 - accuracy: 0.7640\n",
            "Epoch 12/100\n",
            "804/804 [==============================] - 2s 3ms/step - loss: 0.4800 - accuracy: 0.7644\n",
            "Epoch 13/100\n",
            "804/804 [==============================] - 2s 3ms/step - loss: 0.4797 - accuracy: 0.7643\n",
            "Epoch 14/100\n",
            "804/804 [==============================] - 3s 3ms/step - loss: 0.4798 - accuracy: 0.7642\n",
            "Epoch 15/100\n",
            "804/804 [==============================] - 3s 4ms/step - loss: 0.4781 - accuracy: 0.7663\n",
            "Epoch 16/100\n",
            "804/804 [==============================] - 2s 3ms/step - loss: 0.4778 - accuracy: 0.7650\n",
            "Epoch 17/100\n",
            "804/804 [==============================] - 2s 3ms/step - loss: 0.4780 - accuracy: 0.7648\n",
            "Epoch 18/100\n",
            "804/804 [==============================] - 2s 3ms/step - loss: 0.4774 - accuracy: 0.7656\n",
            "Epoch 19/100\n",
            "804/804 [==============================] - 3s 3ms/step - loss: 0.4766 - accuracy: 0.7659\n",
            "Epoch 20/100\n",
            "804/804 [==============================] - 3s 4ms/step - loss: 0.4773 - accuracy: 0.7653\n",
            "Epoch 21/100\n",
            "804/804 [==============================] - 3s 3ms/step - loss: 0.4759 - accuracy: 0.7661\n",
            "Epoch 22/100\n",
            "804/804 [==============================] - 2s 3ms/step - loss: 0.4754 - accuracy: 0.7676\n",
            "Epoch 23/100\n",
            "804/804 [==============================] - 2s 3ms/step - loss: 0.4752 - accuracy: 0.7673\n",
            "Epoch 24/100\n",
            "804/804 [==============================] - 3s 4ms/step - loss: 0.4747 - accuracy: 0.7666\n",
            "Epoch 25/100\n",
            "804/804 [==============================] - 3s 4ms/step - loss: 0.4751 - accuracy: 0.7668\n",
            "Epoch 26/100\n",
            "804/804 [==============================] - 2s 3ms/step - loss: 0.4742 - accuracy: 0.7672\n",
            "Epoch 27/100\n",
            "804/804 [==============================] - 2s 3ms/step - loss: 0.4739 - accuracy: 0.7671\n",
            "Epoch 28/100\n",
            "804/804 [==============================] - 2s 3ms/step - loss: 0.4745 - accuracy: 0.7665\n",
            "Epoch 29/100\n",
            "804/804 [==============================] - 3s 4ms/step - loss: 0.4735 - accuracy: 0.7678\n",
            "Epoch 30/100\n",
            "804/804 [==============================] - 3s 4ms/step - loss: 0.4738 - accuracy: 0.7670\n",
            "Epoch 31/100\n",
            "804/804 [==============================] - 3s 3ms/step - loss: 0.4729 - accuracy: 0.7676\n",
            "Epoch 32/100\n",
            "804/804 [==============================] - 3s 3ms/step - loss: 0.4736 - accuracy: 0.7681\n",
            "Epoch 33/100\n",
            "804/804 [==============================] - 2s 3ms/step - loss: 0.4734 - accuracy: 0.7675\n",
            "Epoch 34/100\n",
            "804/804 [==============================] - 3s 4ms/step - loss: 0.4728 - accuracy: 0.7676\n",
            "Epoch 35/100\n",
            "804/804 [==============================] - 3s 3ms/step - loss: 0.4727 - accuracy: 0.7678\n",
            "Epoch 36/100\n",
            "804/804 [==============================] - 2s 3ms/step - loss: 0.4723 - accuracy: 0.7678\n",
            "Epoch 37/100\n",
            "804/804 [==============================] - 2s 3ms/step - loss: 0.4717 - accuracy: 0.7676\n",
            "Epoch 38/100\n",
            "804/804 [==============================] - 3s 3ms/step - loss: 0.4723 - accuracy: 0.7675\n",
            "Epoch 39/100\n",
            "804/804 [==============================] - 3s 4ms/step - loss: 0.4718 - accuracy: 0.7684\n",
            "Epoch 40/100\n",
            "804/804 [==============================] - 3s 3ms/step - loss: 0.4721 - accuracy: 0.7687\n",
            "Epoch 41/100\n",
            "804/804 [==============================] - 2s 3ms/step - loss: 0.4714 - accuracy: 0.7673\n",
            "Epoch 42/100\n",
            "804/804 [==============================] - 2s 3ms/step - loss: 0.4710 - accuracy: 0.7686\n",
            "Epoch 43/100\n",
            "804/804 [==============================] - 3s 3ms/step - loss: 0.4712 - accuracy: 0.7681\n",
            "Epoch 44/100\n",
            "804/804 [==============================] - 4s 4ms/step - loss: 0.4719 - accuracy: 0.7675\n",
            "Epoch 45/100\n",
            "804/804 [==============================] - 2s 3ms/step - loss: 0.4710 - accuracy: 0.7672\n",
            "Epoch 46/100\n",
            "804/804 [==============================] - 2s 3ms/step - loss: 0.4708 - accuracy: 0.7673\n",
            "Epoch 47/100\n",
            "804/804 [==============================] - 3s 3ms/step - loss: 0.4707 - accuracy: 0.7666\n",
            "Epoch 48/100\n",
            "804/804 [==============================] - 3s 3ms/step - loss: 0.4705 - accuracy: 0.7686\n",
            "Epoch 49/100\n",
            "804/804 [==============================] - 4s 4ms/step - loss: 0.4708 - accuracy: 0.7695\n",
            "Epoch 50/100\n",
            "804/804 [==============================] - 2s 3ms/step - loss: 0.4703 - accuracy: 0.7694\n",
            "Epoch 51/100\n",
            "804/804 [==============================] - 2s 3ms/step - loss: 0.4700 - accuracy: 0.7687\n",
            "Epoch 52/100\n",
            "804/804 [==============================] - 2s 3ms/step - loss: 0.4700 - accuracy: 0.7689\n",
            "Epoch 53/100\n",
            "804/804 [==============================] - 3s 3ms/step - loss: 0.4694 - accuracy: 0.7684\n",
            "Epoch 54/100\n",
            "804/804 [==============================] - 3s 4ms/step - loss: 0.4700 - accuracy: 0.7688\n",
            "Epoch 55/100\n",
            "804/804 [==============================] - 2s 3ms/step - loss: 0.4694 - accuracy: 0.7686\n",
            "Epoch 56/100\n",
            "804/804 [==============================] - 2s 3ms/step - loss: 0.4695 - accuracy: 0.7692\n",
            "Epoch 57/100\n",
            "804/804 [==============================] - 2s 3ms/step - loss: 0.4698 - accuracy: 0.7690\n",
            "Epoch 58/100\n",
            "804/804 [==============================] - 3s 4ms/step - loss: 0.4699 - accuracy: 0.7694\n",
            "Epoch 59/100\n",
            "804/804 [==============================] - 3s 4ms/step - loss: 0.4696 - accuracy: 0.7694\n",
            "Epoch 60/100\n",
            "804/804 [==============================] - 2s 3ms/step - loss: 0.4687 - accuracy: 0.7690\n",
            "Epoch 61/100\n",
            "804/804 [==============================] - 2s 3ms/step - loss: 0.4698 - accuracy: 0.7682\n",
            "Epoch 62/100\n",
            "804/804 [==============================] - 2s 3ms/step - loss: 0.4685 - accuracy: 0.7695\n",
            "Epoch 63/100\n",
            "804/804 [==============================] - 3s 4ms/step - loss: 0.4691 - accuracy: 0.7692\n",
            "Epoch 64/100\n",
            "804/804 [==============================] - 3s 4ms/step - loss: 0.4687 - accuracy: 0.7691\n",
            "Epoch 65/100\n",
            "804/804 [==============================] - 2s 3ms/step - loss: 0.4690 - accuracy: 0.7691\n",
            "Epoch 66/100\n",
            "804/804 [==============================] - 3s 3ms/step - loss: 0.4683 - accuracy: 0.7699\n",
            "Epoch 67/100\n",
            "804/804 [==============================] - 3s 3ms/step - loss: 0.4688 - accuracy: 0.7694\n",
            "Epoch 68/100\n",
            "804/804 [==============================] - 3s 4ms/step - loss: 0.4715 - accuracy: 0.7680\n",
            "Epoch 69/100\n",
            "804/804 [==============================] - 3s 3ms/step - loss: 0.4685 - accuracy: 0.7698\n",
            "Epoch 70/100\n",
            "804/804 [==============================] - 2s 3ms/step - loss: 0.4681 - accuracy: 0.7709\n",
            "Epoch 71/100\n",
            "804/804 [==============================] - 2s 3ms/step - loss: 0.4679 - accuracy: 0.7698\n",
            "Epoch 72/100\n",
            "804/804 [==============================] - 2s 3ms/step - loss: 0.4694 - accuracy: 0.7699\n",
            "Epoch 73/100\n",
            "804/804 [==============================] - 3s 4ms/step - loss: 0.4683 - accuracy: 0.7696\n",
            "Epoch 74/100\n",
            "804/804 [==============================] - 3s 3ms/step - loss: 0.4692 - accuracy: 0.7689\n",
            "Epoch 75/100\n",
            "804/804 [==============================] - 3s 3ms/step - loss: 0.4679 - accuracy: 0.7681\n",
            "Epoch 76/100\n",
            "804/804 [==============================] - 2s 3ms/step - loss: 0.4676 - accuracy: 0.7697\n",
            "Epoch 77/100\n",
            "804/804 [==============================] - 2s 3ms/step - loss: 0.4679 - accuracy: 0.7696\n",
            "Epoch 78/100\n",
            "804/804 [==============================] - 4s 4ms/step - loss: 0.4677 - accuracy: 0.7702\n",
            "Epoch 79/100\n",
            "804/804 [==============================] - 3s 3ms/step - loss: 0.4699 - accuracy: 0.7696\n",
            "Epoch 80/100\n",
            "804/804 [==============================] - 2s 3ms/step - loss: 0.4687 - accuracy: 0.7697\n",
            "Epoch 81/100\n",
            "804/804 [==============================] - 3s 3ms/step - loss: 0.4671 - accuracy: 0.7690\n",
            "Epoch 82/100\n",
            "804/804 [==============================] - 3s 3ms/step - loss: 0.4672 - accuracy: 0.7704\n",
            "Epoch 83/100\n",
            "804/804 [==============================] - 4s 4ms/step - loss: 0.4682 - accuracy: 0.7704\n",
            "Epoch 84/100\n",
            "804/804 [==============================] - 2s 3ms/step - loss: 0.4670 - accuracy: 0.7701\n",
            "Epoch 85/100\n",
            "804/804 [==============================] - 3s 3ms/step - loss: 0.4676 - accuracy: 0.7710\n",
            "Epoch 86/100\n",
            "804/804 [==============================] - 3s 3ms/step - loss: 0.4668 - accuracy: 0.7696\n",
            "Epoch 87/100\n",
            "804/804 [==============================] - 3s 4ms/step - loss: 0.4672 - accuracy: 0.7699\n",
            "Epoch 88/100\n",
            "804/804 [==============================] - 3s 4ms/step - loss: 0.4667 - accuracy: 0.7713\n",
            "Epoch 89/100\n",
            "804/804 [==============================] - 3s 3ms/step - loss: 0.4682 - accuracy: 0.7699\n",
            "Epoch 90/100\n",
            "804/804 [==============================] - 3s 3ms/step - loss: 0.4677 - accuracy: 0.7704\n",
            "Epoch 91/100\n",
            "804/804 [==============================] - 2s 3ms/step - loss: 0.4662 - accuracy: 0.7706\n",
            "Epoch 92/100\n",
            "804/804 [==============================] - 3s 4ms/step - loss: 0.4658 - accuracy: 0.7704\n",
            "Epoch 93/100\n",
            "804/804 [==============================] - 3s 3ms/step - loss: 0.4673 - accuracy: 0.7696\n",
            "Epoch 94/100\n",
            "804/804 [==============================] - 2s 3ms/step - loss: 0.4669 - accuracy: 0.7698\n",
            "Epoch 95/100\n",
            "804/804 [==============================] - 2s 3ms/step - loss: 0.4671 - accuracy: 0.7706\n",
            "Epoch 96/100\n",
            "804/804 [==============================] - 2s 3ms/step - loss: 0.4678 - accuracy: 0.7711\n",
            "Epoch 97/100\n",
            "804/804 [==============================] - 3s 4ms/step - loss: 0.4672 - accuracy: 0.7697\n",
            "Epoch 98/100\n",
            "804/804 [==============================] - 3s 3ms/step - loss: 0.4666 - accuracy: 0.7710\n",
            "Epoch 99/100\n",
            "804/804 [==============================] - 3s 3ms/step - loss: 0.4664 - accuracy: 0.7703\n",
            "Epoch 100/100\n",
            "804/804 [==============================] - 3s 3ms/step - loss: 0.4667 - accuracy: 0.7700\n"
          ]
        }
      ],
      "source": [
        "fit_model = as_model.fit(X_train_scaled, y_train, epochs=100)\n"
      ]
    },
    {
      "cell_type": "code",
      "source": [
        "# Evaluate the model using the test data\n",
        "model_loss, model_accuracy = as_model.evaluate(X_test_scaled,y_test,verbose=2)\n",
        "print(f\"Loss: {model_loss}, Accuracy: {model_accuracy}\")"
      ],
      "metadata": {
        "id": "_64ylbIdH_ak",
        "outputId": "88c15976-1b8c-4f8a-f90c-2837b2cf12cd",
        "colab": {
          "base_uri": "https://localhost:8080/"
        }
      },
      "execution_count": 11,
      "outputs": [
        {
          "output_type": "stream",
          "name": "stdout",
          "text": [
            "268/268 - 1s - loss: 0.5548 - accuracy: 0.7479 - 617ms/epoch - 2ms/step\n",
            "Loss: 0.5548407435417175, Accuracy: 0.7478716969490051\n"
          ]
        }
      ]
    },
    {
      "cell_type": "code",
      "execution_count": 12,
      "metadata": {
        "id": "WvZ9D7yXrfaj",
        "outputId": "7a68f817-b104-4ff7-dd80-e6826638b926",
        "colab": {
          "base_uri": "https://localhost:8080/",
          "height": 904
        }
      },
      "outputs": [
        {
          "output_type": "execute_result",
          "data": {
            "text/plain": [
              "<Axes: title={'center': 'Training Accuracy'}>"
            ]
          },
          "metadata": {},
          "execution_count": 12
        },
        {
          "output_type": "display_data",
          "data": {
            "text/plain": [
              "<Figure size 640x480 with 1 Axes>"
            ],
            "image/png": "[encoded data removed]"
          },
          "metadata": {}
        },
        {
          "output_type": "display_data",
          "data": {
            "text/plain": [
              "<Figure size 640x480 with 1 Axes>"
            ],
            "image/png": "[encoded data removed]"
          },
          "metadata": {}
        }
      ],
      "source": [
        "# Export our model to HDF5 file\n",
        "# Create a DataFrame containing training history\n",
        "hist = pd.DataFrame(fit_model.history)\n",
        "hist.index += 1\n",
        "# Plot the accuracy\n",
        "hist.plot(y=\"loss\", title='Training Loss', legend=False)\n",
        "hist.plot(y='accuracy', title='Training Accuracy', legend=False)"
      ]
    }
  ],
  "metadata": {
    "kernelspec": {
      "display_name": "Python 3",
      "language": "python",
      "name": "python3"
    },
    "language_info": {
      "codemirror_mode": {
        "name": "ipython",
        "version": 3
      },
      "file_extension": ".py",
      "mimetype": "text/x-python",
      "name": "python",
      "nbconvert_exporter": "python",
      "pygments_lexer": "ipython3",
      "version": "3.-1.-1"
    },
    "vscode": {
      "interpreter": {
        "hash": "31f2aee4e71d21fbe5cf8b01ff0e069b9275f58929596ceb00d14d90e3e16cd6"
      }
    },
    "colab": {
      "provenance": [],
      "include_colab_link": true
    }
  },
  "nbformat": 4,
  "nbformat_minor": 0
}